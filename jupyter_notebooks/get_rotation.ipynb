{
 "cells": [
  {
   "cell_type": "code",
   "execution_count": 0,
   "metadata": {},
   "outputs": [],
   "source": [
    "# Change directory to VSCode workspace root so that relative path loads work correctly. Turn this addition off with the DataScience.changeDirOnImportExport setting\n",
    "# ms-python.python added\n",
    "import os\n",
    "try:\n",
    "\tos.chdir(os.path.join(os.getcwd(), '..'))\n",
    "\tprint(os.getcwd())\n",
    "except:\n",
    "\tpass\n"
   ]
  },
  {
   "cell_type": "code",
   "execution_count": 1,
   "metadata": {},
   "outputs": [
    {
     "ename": "NameError",
     "evalue": "name 'lon_Prt' is not defined",
     "output_type": "error",
     "traceback": [
      "\u001b[0;31m---------------------------------------------------------------------------\u001b[0m",
      "\u001b[0;31mNameError\u001b[0m                                 Traceback (most recent call last)",
      "\u001b[0;32m~/Desktop/4th_year/4th_year_project/Project/top_data/geogr_geocentric.py\u001b[0m in \u001b[0;36m<module>\u001b[0;34m\u001b[0m\n\u001b[1;32m     13\u001b[0m     \u001b[0;32mreturn\u001b[0m\u001b[0;34m(\u001b[0m\u001b[0mr_cnt\u001b[0m\u001b[0;34m)\u001b[0m\u001b[0;34m\u001b[0m\u001b[0;34m\u001b[0m\u001b[0m\n\u001b[1;32m     14\u001b[0m \u001b[0;34m\u001b[0m\u001b[0m\n\u001b[0;32m---> 15\u001b[0;31m \u001b[0mlen_lon\u001b[0m \u001b[0;34m=\u001b[0m \u001b[0mlen\u001b[0m\u001b[0;34m(\u001b[0m\u001b[0mlon_Prt\u001b[0m\u001b[0;34m)\u001b[0m\u001b[0;34m\u001b[0m\u001b[0;34m\u001b[0m\u001b[0m\n\u001b[0m\u001b[1;32m     16\u001b[0m \u001b[0;31m# Calculate radius of reference surface at geocentric latitudes\u001b[0m\u001b[0;34m\u001b[0m\u001b[0;34m\u001b[0m\u001b[0;34m\u001b[0m\u001b[0m\n\u001b[1;32m     17\u001b[0m \u001b[0mr_cnt\u001b[0m \u001b[0;34m=\u001b[0m \u001b[0mradius_cnt\u001b[0m\u001b[0;34m(\u001b[0m\u001b[0mlat_Prt_cnt\u001b[0m\u001b[0;34m)\u001b[0m\u001b[0;34m\u001b[0m\u001b[0;34m\u001b[0m\u001b[0m\n",
      "\u001b[0;31mNameError\u001b[0m: name 'lon_Prt' is not defined"
     ]
    }
   ],
   "source": [
    "import numpy as np\n",
    "from math import pi, sin, cos, sqrt\n",
    "\n",
    "# Reference surface will be the Earth as defined by the WGS84 ellipsoid\n",
    "def radius_cnt(lat):\n",
    "    a = wgs84()[0]\n",
    "    b = wgs84()[1]\n",
    "    # Calculate radius for reference ellipsoid\n",
    "    # in m \n",
    "    lat = pi/180*lat\n",
    "    # for i in range(len(lat)): \n",
    "    r_cnt = np.sqrt((a**2*(np.cos(lat)**2)) + (b**2*(np.sin(lat)**2)))\n",
    "    return(r_cnt)\n",
    "\n",
    "len_lon = len(lon_Prt)\n",
    "# Calculate radius of reference surface at geocentric latitudes\n",
    "r_cnt = radius_cnt(lat_Prt_cnt) \n",
    "r_cnt = np.array([r_cnt,]*len_lon).conj().transpose()\n",
    "# Calculate the radius for each bathymetry data point, in km \n",
    "r_cnt_bathy = (r_cnt + bathy_Prt)/1000 \n",
    "# Calculate the colatitude to define a spherical coordinate system\n",
    "colat_Prt_cnt = 90 - lat_Prt_cnt\n"
   ]
  },
  {
   "cell_type": "code",
   "execution_count": 2,
   "metadata": {},
   "outputs": [
    {
     "ename": "SyntaxError",
     "evalue": "invalid syntax (<ipython-input-2-e153f69381d9>, line 29)",
     "output_type": "error",
     "traceback": [
      "\u001b[0;36m  File \u001b[0;32m\"<ipython-input-2-e153f69381d9>\"\u001b[0;36m, line \u001b[0;32m29\u001b[0m\n\u001b[0;31m    else geocentric == 'False':\u001b[0m\n\u001b[0m                  ^\u001b[0m\n\u001b[0;31mSyntaxError\u001b[0m\u001b[0;31m:\u001b[0m invalid syntax\n"
     ]
    }
   ],
   "source": [
    "import numpy as np\n",
    "from math import pi, sin, cos, sqrt\n",
    "\n",
    "def wgs84(): #WGSS84 coordinate system with Greenwich as lon = 0\n",
    "    # set semi-major axis of the oblate spheroid Earth, in m\n",
    "    a = 6378137.0\n",
    "    # set semi-minor axis of the oblate spheroid Earth, in m\n",
    "    b = 6356752.314245\n",
    "    # calculate inverse flattening f\n",
    "    f = a/(a-b)\n",
    "    # calculate squared eccentricity e\n",
    "    e_2 = (a**2-b**2)/a**2\n",
    "    return(a,b,e_2,f)\n",
    "\n",
    "def lat_to_colat(lat, depth, geocentric): \n",
    "    \"\"\"\n",
    "    Due to ellipticity, the colatitude cannot just be calculated by \n",
    "    the simple 90-lat method. Function returns colatitude, given \n",
    "    either the geographic latitude or the geocetric latitude, and \n",
    "    depth of source. Set geocentric equal to 'True' if input latitudes \n",
    "    are geocentric, and 'False' if geographic. \n",
    "    \"\"\"\n",
    "    if geocentric != 'True' or 'False':\n",
    "        print('geocentric has to be a Boolean value')\n",
    "    elif geocentric == 'True':\n",
    "        # Ellipticity already accounted for\n",
    "        colat = 90 - lat\n",
    "        print('Source depth ignored')\n",
    "    else geocentric == 'False':\n",
    "        e_2 = wgs84()[2] # returns the 3rd item from function ouputs \n",
    "        theta = np.rad2deg(np.arctan((1 - e_2) * np.tan(np.deg2rad(theta))))\n",
    "        # This is for source depth = 0, how to incorporate depths?\n",
    "    return(colat)\n",
    "\n"
   ]
  },
  {
   "cell_type": "code",
   "execution_count": 3,
   "metadata": {},
   "outputs": [],
   "source": [
    "import numpy as np\n",
    "from math import pi, sin, cos, sqrt\n",
    "\n",
    "def wgs84(): #WGSS84 coordinate system with Greenwich as lon = 0\n",
    "    # set semi-major axis of the oblate spheroid Earth, in m\n",
    "    a = 6378137.0\n",
    "    # set semi-minor axis of the oblate spheroid Earth, in m\n",
    "    b = 6356752.314245\n",
    "    # calculate inverse flattening f\n",
    "    f = a/(a-b)\n",
    "    # calculate squared eccentricity e\n",
    "    e_2 = (a**2-b**2)/a**2\n",
    "    return(a,b,e_2,f)\n",
    "\n",
    "def lat_to_colat(lat, depth, geocentric): \n",
    "    \"\"\"\n",
    "    Due to ellipticity, the colatitude cannot just be calculated by \n",
    "    the simple 90-lat method. Function returns colatitude, given \n",
    "    either the geographic latitude or the geocetric latitude, and \n",
    "    depth of source. Set geocentric equal to 'True' if input latitudes \n",
    "    are geocentric, and 'False' if geographic. \n",
    "    \"\"\"\n",
    "    if geocentric != 'True' or 'False':\n",
    "        print('geocentric has to be a Boolean value')\n",
    "    elif geocentric == 'True':\n",
    "        # Ellipticity already accounted for\n",
    "        colat = 90 - lat\n",
    "        print('Source depth ignored')\n",
    "    else:\n",
    "        e_2 = wgs84()[2] # returns the 3rd item from function ouputs \n",
    "        theta = np.rad2deg(np.arctan((1 - e_2) * np.tan(np.deg2rad(theta))))\n",
    "        # This is for source depth = 0, how to incorporate depths?\n",
    "    return(colat)\n",
    "\n"
   ]
  },
  {
   "cell_type": "code",
   "execution_count": 4,
   "metadata": {},
   "outputs": [
    {
     "name": "stdout",
     "output_type": "stream",
     "text": [
      "geocentric has to be a Boolean value\n"
     ]
    },
    {
     "ename": "UnboundLocalError",
     "evalue": "local variable 'colat' referenced before assignment",
     "output_type": "error",
     "traceback": [
      "\u001b[0;31m---------------------------------------------------------------------------\u001b[0m",
      "\u001b[0;31mUnboundLocalError\u001b[0m                         Traceback (most recent call last)",
      "\u001b[0;32m~/Desktop/4th_year/4th_year_project/Project/top_data/rotate_N_pole.py\u001b[0m in \u001b[0;36m<module>\u001b[0;34m\u001b[0m\n\u001b[1;32m      1\u001b[0m \u001b[0mlat_test\u001b[0m \u001b[0;34m=\u001b[0m \u001b[0;36m45\u001b[0m\u001b[0;34m\u001b[0m\u001b[0;34m\u001b[0m\u001b[0m\n\u001b[1;32m      2\u001b[0m \u001b[0mdepth\u001b[0m \u001b[0;34m=\u001b[0m \u001b[0;36m0\u001b[0m\u001b[0;34m\u001b[0m\u001b[0;34m\u001b[0m\u001b[0m\n\u001b[0;32m----> 3\u001b[0;31m \u001b[0mcolat_test\u001b[0m \u001b[0;34m=\u001b[0m \u001b[0mlat_to_colat\u001b[0m\u001b[0;34m(\u001b[0m\u001b[0mlat_test\u001b[0m\u001b[0;34m,\u001b[0m \u001b[0mdepth\u001b[0m\u001b[0;34m,\u001b[0m \u001b[0;34m'True'\u001b[0m\u001b[0;34m)\u001b[0m\u001b[0;34m\u001b[0m\u001b[0;34m\u001b[0m\u001b[0m\n\u001b[0m",
      "\u001b[0;32m~/Desktop/4th_year/4th_year_project/Project/top_data/rotate_N_pole.py\u001b[0m in \u001b[0;36mlat_to_colat\u001b[0;34m(lat, depth, geocentric)\u001b[0m\n\u001b[1;32m     31\u001b[0m         \u001b[0mtheta\u001b[0m \u001b[0;34m=\u001b[0m \u001b[0mnp\u001b[0m\u001b[0;34m.\u001b[0m\u001b[0mrad2deg\u001b[0m\u001b[0;34m(\u001b[0m\u001b[0mnp\u001b[0m\u001b[0;34m.\u001b[0m\u001b[0marctan\u001b[0m\u001b[0;34m(\u001b[0m\u001b[0;34m(\u001b[0m\u001b[0;36m1\u001b[0m \u001b[0;34m-\u001b[0m \u001b[0me_2\u001b[0m\u001b[0;34m)\u001b[0m \u001b[0;34m*\u001b[0m \u001b[0mnp\u001b[0m\u001b[0;34m.\u001b[0m\u001b[0mtan\u001b[0m\u001b[0;34m(\u001b[0m\u001b[0mnp\u001b[0m\u001b[0;34m.\u001b[0m\u001b[0mdeg2rad\u001b[0m\u001b[0;34m(\u001b[0m\u001b[0mtheta\u001b[0m\u001b[0;34m)\u001b[0m\u001b[0;34m)\u001b[0m\u001b[0;34m)\u001b[0m\u001b[0;34m)\u001b[0m\u001b[0;34m\u001b[0m\u001b[0;34m\u001b[0m\u001b[0m\n\u001b[1;32m     32\u001b[0m         \u001b[0;31m# This is for source depth = 0, how to incorporate depths?\u001b[0m\u001b[0;34m\u001b[0m\u001b[0;34m\u001b[0m\u001b[0;34m\u001b[0m\u001b[0m\n\u001b[0;32m---> 33\u001b[0;31m     \u001b[0;32mreturn\u001b[0m\u001b[0;34m(\u001b[0m\u001b[0mcolat\u001b[0m\u001b[0;34m)\u001b[0m\u001b[0;34m\u001b[0m\u001b[0;34m\u001b[0m\u001b[0m\n\u001b[0m\u001b[1;32m     34\u001b[0m \u001b[0;34m\u001b[0m\u001b[0m\n",
      "\u001b[0;31mUnboundLocalError\u001b[0m: local variable 'colat' referenced before assignment"
     ]
    }
   ],
   "source": [
    "lat_test = 45\n",
    "depth = 0\n",
    "colat_test = lat_to_colat(lat_test, depth, 'True')"
   ]
  },
  {
   "cell_type": "code",
   "execution_count": 5,
   "metadata": {},
   "outputs": [
    {
     "name": "stdout",
     "output_type": "stream",
     "text": [
      "geocentric has to be a Boolean value\n"
     ]
    },
    {
     "ename": "UnboundLocalError",
     "evalue": "local variable 'colat' referenced before assignment",
     "output_type": "error",
     "traceback": [
      "\u001b[0;31m---------------------------------------------------------------------------\u001b[0m",
      "\u001b[0;31mUnboundLocalError\u001b[0m                         Traceback (most recent call last)",
      "\u001b[0;32m~/Desktop/4th_year/4th_year_project/Project/top_data/rotate_N_pole.py\u001b[0m in \u001b[0;36m<module>\u001b[0;34m\u001b[0m\n\u001b[1;32m      2\u001b[0m \u001b[0mdepth\u001b[0m \u001b[0;34m=\u001b[0m \u001b[0;36m0\u001b[0m\u001b[0;34m\u001b[0m\u001b[0;34m\u001b[0m\u001b[0m\n\u001b[1;32m      3\u001b[0m \u001b[0mgeocentric\u001b[0m \u001b[0;34m=\u001b[0m \u001b[0;34m'True'\u001b[0m\u001b[0;34m\u001b[0m\u001b[0;34m\u001b[0m\u001b[0m\n\u001b[0;32m----> 4\u001b[0;31m \u001b[0mcolat_test\u001b[0m \u001b[0;34m=\u001b[0m \u001b[0mlat_to_colat\u001b[0m\u001b[0;34m(\u001b[0m\u001b[0mlat_test\u001b[0m\u001b[0;34m,\u001b[0m \u001b[0mdepth\u001b[0m\u001b[0;34m,\u001b[0m \u001b[0mgeocentric\u001b[0m\u001b[0;34m)\u001b[0m\u001b[0;34m\u001b[0m\u001b[0;34m\u001b[0m\u001b[0m\n\u001b[0m",
      "\u001b[0;32m~/Desktop/4th_year/4th_year_project/Project/top_data/rotate_N_pole.py\u001b[0m in \u001b[0;36mlat_to_colat\u001b[0;34m(lat, depth, geocentric)\u001b[0m\n\u001b[1;32m     31\u001b[0m         \u001b[0mtheta\u001b[0m \u001b[0;34m=\u001b[0m \u001b[0mnp\u001b[0m\u001b[0;34m.\u001b[0m\u001b[0mrad2deg\u001b[0m\u001b[0;34m(\u001b[0m\u001b[0mnp\u001b[0m\u001b[0;34m.\u001b[0m\u001b[0marctan\u001b[0m\u001b[0;34m(\u001b[0m\u001b[0;34m(\u001b[0m\u001b[0;36m1\u001b[0m \u001b[0;34m-\u001b[0m \u001b[0me_2\u001b[0m\u001b[0;34m)\u001b[0m \u001b[0;34m*\u001b[0m \u001b[0mnp\u001b[0m\u001b[0;34m.\u001b[0m\u001b[0mtan\u001b[0m\u001b[0;34m(\u001b[0m\u001b[0mnp\u001b[0m\u001b[0;34m.\u001b[0m\u001b[0mdeg2rad\u001b[0m\u001b[0;34m(\u001b[0m\u001b[0mtheta\u001b[0m\u001b[0;34m)\u001b[0m\u001b[0;34m)\u001b[0m\u001b[0;34m)\u001b[0m\u001b[0;34m)\u001b[0m\u001b[0;34m\u001b[0m\u001b[0;34m\u001b[0m\u001b[0m\n\u001b[1;32m     32\u001b[0m         \u001b[0;31m# This is for source depth = 0, how to incorporate depths?\u001b[0m\u001b[0;34m\u001b[0m\u001b[0;34m\u001b[0m\u001b[0;34m\u001b[0m\u001b[0m\n\u001b[0;32m---> 33\u001b[0;31m     \u001b[0;32mreturn\u001b[0m\u001b[0;34m(\u001b[0m\u001b[0mcolat\u001b[0m\u001b[0;34m)\u001b[0m\u001b[0;34m\u001b[0m\u001b[0;34m\u001b[0m\u001b[0m\n\u001b[0m\u001b[1;32m     34\u001b[0m \u001b[0;34m\u001b[0m\u001b[0m\n",
      "\u001b[0;31mUnboundLocalError\u001b[0m: local variable 'colat' referenced before assignment"
     ]
    }
   ],
   "source": [
    "lat_test = 45\n",
    "depth = 0\n",
    "geocentric = 'True'\n",
    "colat_test = lat_to_colat(lat_test, depth, geocentric)"
   ]
  },
  {
   "cell_type": "code",
   "execution_count": 6,
   "metadata": {},
   "outputs": [
    {
     "ename": "IndentationError",
     "evalue": "expected an indented block (<ipython-input-6-6ec62ad516ed>, line 32)",
     "output_type": "error",
     "traceback": [
      "\u001b[0;36m  File \u001b[0;32m\"<ipython-input-6-6ec62ad516ed>\"\u001b[0;36m, line \u001b[0;32m32\u001b[0m\n\u001b[0;31m    colat = np.rad2deg(np.arctan((1 - e_2) * np.tan(np.deg2rad(lat))))\u001b[0m\n\u001b[0m        ^\u001b[0m\n\u001b[0;31mIndentationError\u001b[0m\u001b[0;31m:\u001b[0m expected an indented block\n"
     ]
    }
   ],
   "source": [
    "import numpy as np\n",
    "from math import pi, sin, cos, sqrt\n",
    "\n",
    "def wgs84(): #WGSS84 coordinate system with Greenwich as lon = 0\n",
    "    # set semi-major axis of the oblate spheroid Earth, in m\n",
    "    a = 6378137.0\n",
    "    # set semi-minor axis of the oblate spheroid Earth, in m\n",
    "    b = 6356752.314245\n",
    "    # calculate inverse flattening f\n",
    "    f = a/(a-b)\n",
    "    # calculate squared eccentricity e\n",
    "    e_2 = (a**2-b**2)/a**2\n",
    "    return(a,b,e_2,f)\n",
    "\n",
    "def lat_to_colat(lat, depth, geocentric): \n",
    "    \"\"\"\n",
    "    Due to ellipticity, the colatitude cannot just be calculated by \n",
    "    the simple 90-lat method. Function returns colatitude, given \n",
    "    either the geographic latitude or the geocetric latitude, and \n",
    "    depth of source. Set geocentric equal to 'True' if input latitudes \n",
    "    are geocentric, and 'False' if geographic. \n",
    "    \"\"\"\n",
    "    if geocentric != 'True' or 'False':\n",
    "        print('geocentric has to be a Boolean value')\n",
    "    elif geocentric == 'True':\n",
    "        # Ellipticity already accounted for\n",
    "        colat = 90 - lat\n",
    "        print('Source depth ignored')\n",
    "    else:\n",
    "        e_2 = wgs84()[2] # returns the 3rd item from function ouputs \n",
    "        if depth == 0: \n",
    "        colat = np.rad2deg(np.arctan((1 - e_2) * np.tan(np.deg2rad(lat))))\n",
    "        # This is for source depth = 0, how to incorporate depths?\n",
    "        else:\n",
    "            print('Function only works for 0 depths')\n",
    "    return(colat)\n",
    "\n"
   ]
  },
  {
   "cell_type": "code",
   "execution_count": 7,
   "metadata": {},
   "outputs": [],
   "source": [
    "import numpy as np\n",
    "from math import pi, sin, cos, sqrt\n",
    "\n",
    "def wgs84(): #WGSS84 coordinate system with Greenwich as lon = 0\n",
    "    # set semi-major axis of the oblate spheroid Earth, in m\n",
    "    a = 6378137.0\n",
    "    # set semi-minor axis of the oblate spheroid Earth, in m\n",
    "    b = 6356752.314245\n",
    "    # calculate inverse flattening f\n",
    "    f = a/(a-b)\n",
    "    # calculate squared eccentricity e\n",
    "    e_2 = (a**2-b**2)/a**2\n",
    "    return(a,b,e_2,f)\n",
    "\n",
    "def lat_to_colat(lat, depth, geocentric): \n",
    "    \"\"\"\n",
    "    Due to ellipticity, the colatitude cannot just be calculated by \n",
    "    the simple 90-lat method. Function returns colatitude, given \n",
    "    either the geographic latitude or the geocetric latitude, and \n",
    "    depth of source. Set geocentric equal to 'True' if input latitudes \n",
    "    are geocentric, and 'False' if geographic. \n",
    "    \"\"\"\n",
    "    if geocentric != 'True' or 'False':\n",
    "        print('geocentric has to be a Boolean value')\n",
    "    elif geocentric == 'True':\n",
    "        # Ellipticity already accounted for\n",
    "        colat = 90 - lat\n",
    "        print('Source depth ignored')\n",
    "    else:\n",
    "        e_2 = wgs84()[2] # returns the 3rd item from function ouputs \n",
    "        if depth == 0: \n",
    "            colat = np.rad2deg(np.arctan((1 - e_2) * np.tan(np.deg2rad(lat))))\n",
    "            # This is for source depth = 0, how to incorporate depths?\n",
    "        else:\n",
    "            print('Function only works for 0 depths')\n",
    "    return(colat)\n",
    "\n"
   ]
  },
  {
   "cell_type": "code",
   "execution_count": 8,
   "metadata": {},
   "outputs": [
    {
     "name": "stdout",
     "output_type": "stream",
     "text": [
      "geocentric has to be a Boolean value\n"
     ]
    },
    {
     "ename": "UnboundLocalError",
     "evalue": "local variable 'colat' referenced before assignment",
     "output_type": "error",
     "traceback": [
      "\u001b[0;31m---------------------------------------------------------------------------\u001b[0m",
      "\u001b[0;31mUnboundLocalError\u001b[0m                         Traceback (most recent call last)",
      "\u001b[0;32m~/Desktop/4th_year/4th_year_project/Project/top_data/rotate_N_pole.py\u001b[0m in \u001b[0;36m<module>\u001b[0;34m\u001b[0m\n\u001b[1;32m      2\u001b[0m \u001b[0mdepth\u001b[0m \u001b[0;34m=\u001b[0m \u001b[0;36m0\u001b[0m\u001b[0;34m\u001b[0m\u001b[0;34m\u001b[0m\u001b[0m\n\u001b[1;32m      3\u001b[0m \u001b[0mgeocentric\u001b[0m \u001b[0;34m=\u001b[0m \u001b[0;34m'True'\u001b[0m\u001b[0;34m\u001b[0m\u001b[0;34m\u001b[0m\u001b[0m\n\u001b[0;32m----> 4\u001b[0;31m \u001b[0mcolat_test\u001b[0m \u001b[0;34m=\u001b[0m \u001b[0mlat_to_colat\u001b[0m\u001b[0;34m(\u001b[0m\u001b[0mlat_test\u001b[0m\u001b[0;34m,\u001b[0m \u001b[0mdepth\u001b[0m\u001b[0;34m,\u001b[0m \u001b[0mgeocentric\u001b[0m\u001b[0;34m)\u001b[0m\u001b[0;34m\u001b[0m\u001b[0;34m\u001b[0m\u001b[0m\n\u001b[0m",
      "\u001b[0;32m~/Desktop/4th_year/4th_year_project/Project/top_data/rotate_N_pole.py\u001b[0m in \u001b[0;36mlat_to_colat\u001b[0;34m(lat, depth, geocentric)\u001b[0m\n\u001b[1;32m     34\u001b[0m         \u001b[0;32melse\u001b[0m\u001b[0;34m:\u001b[0m\u001b[0;34m\u001b[0m\u001b[0;34m\u001b[0m\u001b[0m\n\u001b[1;32m     35\u001b[0m             \u001b[0mprint\u001b[0m\u001b[0;34m(\u001b[0m\u001b[0;34m'Function only works for 0 depths'\u001b[0m\u001b[0;34m)\u001b[0m\u001b[0;34m\u001b[0m\u001b[0;34m\u001b[0m\u001b[0m\n\u001b[0;32m---> 36\u001b[0;31m     \u001b[0;32mreturn\u001b[0m\u001b[0;34m(\u001b[0m\u001b[0mcolat\u001b[0m\u001b[0;34m)\u001b[0m\u001b[0;34m\u001b[0m\u001b[0;34m\u001b[0m\u001b[0m\n\u001b[0m\u001b[1;32m     37\u001b[0m \u001b[0;34m\u001b[0m\u001b[0m\n",
      "\u001b[0;31mUnboundLocalError\u001b[0m: local variable 'colat' referenced before assignment"
     ]
    }
   ],
   "source": [
    "lat_test = 45\n",
    "depth = 0\n",
    "geocentric = 'True'\n",
    "colat_test = lat_to_colat(lat_test, depth, geocentric)"
   ]
  },
  {
   "cell_type": "code",
   "execution_count": 9,
   "metadata": {},
   "outputs": [],
   "source": [
    "import numpy as np\n",
    "from math import pi, sin, cos, sqrt\n",
    "\n",
    "def wgs84(): #WGSS84 coordinate system with Greenwich as lon = 0\n",
    "    # set semi-major axis of the oblate spheroid Earth, in m\n",
    "    a = 6378137.0\n",
    "    # set semi-minor axis of the oblate spheroid Earth, in m\n",
    "    b = 6356752.314245\n",
    "    # calculate inverse flattening f\n",
    "    f = a/(a-b)\n",
    "    # calculate squared eccentricity e\n",
    "    e_2 = (a**2-b**2)/a**2\n",
    "    return(a,b,e_2,f)\n",
    "\n",
    "def lat_to_colat(lat, depth, geocentric): \n",
    "    \"\"\"\n",
    "    Due to ellipticity, the colatitude cannot just be calculated by \n",
    "    the simple 90-lat method. Function returns colatitude, given \n",
    "    either the geographic latitude or the geocetric latitude, and \n",
    "    depth of source. Set geocentric equal to 'True' if input latitudes \n",
    "    are geocentric, and 'False' if geographic. \n",
    "    \"\"\"\n",
    "    if geocentric != 'True' or 'False':\n",
    "        print('geocentric has to be a Boolean value')\n",
    "    elif geocentric == 'True':\n",
    "        # Ellipticity already accounted for\n",
    "        colat = 90 - lat\n",
    "        print('Source depth ignored')\n",
    "    else:\n",
    "        e_2 = wgs84()[2] # returns the 3rd item from function ouputs \n",
    "        if depth == 0: \n",
    "            colat = np.rad2deg(np.arctan((1 - e_2) * np.tan(np.deg2rad(lat))))\n",
    "            # This is for source depth = 0, how to incorporate depths?\n",
    "        else:\n",
    "            print('Function only works for 0 depths')\n",
    "            \n",
    "    return(colat)\n",
    "\n"
   ]
  },
  {
   "cell_type": "code",
   "execution_count": 10,
   "metadata": {},
   "outputs": [],
   "source": [
    "geocentric = 'False'"
   ]
  },
  {
   "cell_type": "code",
   "execution_count": 11,
   "metadata": {},
   "outputs": [
    {
     "name": "stdout",
     "output_type": "stream",
     "text": [
      "geocentric has to be a Boolean value\n"
     ]
    }
   ],
   "source": [
    "if geocentric != 'True' or 'False':\n",
    "    print('geocentric has to be a Boolean value')"
   ]
  },
  {
   "cell_type": "code",
   "execution_count": 12,
   "metadata": {},
   "outputs": [],
   "source": [
    "import numpy as np\n",
    "from math import pi, sin, cos, sqrt\n",
    "\n",
    "def wgs84(): #WGSS84 coordinate system with Greenwich as lon = 0\n",
    "    # set semi-major axis of the oblate spheroid Earth, in m\n",
    "    a = 6378137.0\n",
    "    # set semi-minor axis of the oblate spheroid Earth, in m\n",
    "    b = 6356752.314245\n",
    "    # calculate inverse flattening f\n",
    "    f = a/(a-b)\n",
    "    # calculate squared eccentricity e\n",
    "    e_2 = (a**2-b**2)/a**2\n",
    "    return(a,b,e_2,f)\n",
    "\n",
    "def lat_to_colat(lat, depth, geocentric): \n",
    "    \"\"\"\n",
    "    Due to ellipticity, the colatitude cannot just be calculated by \n",
    "    the simple 90-lat method. Function returns colatitude, given \n",
    "    either the geographic latitude or the geocetric latitude, and \n",
    "    depth of source. Set geocentric equal to 'True' if input latitudes \n",
    "    are geocentric, and 'False' if geographic. \n",
    "    \"\"\"\n",
    "    if geocentric != 'True' or 'False':\n",
    "        print('geocentric has to be a Boolean value')\n",
    "    elif geocentric == 'True':\n",
    "        # Ellipticity already accounted for\n",
    "        colat = 90 - lat\n",
    "        print('Source depth ignored')\n",
    "    # else:\n",
    "    #     e_2 = wgs84()[2] # returns the 3rd item from function ouputs \n",
    "    #     if depth == 0: \n",
    "    #         colat = np.rad2deg(np.arctan((1 - e_2) * np.tan(np.deg2rad(lat))))\n",
    "    #         # This is for source depth = 0, how to incorporate depths?\n",
    "    #     else:\n",
    "    #         print('Function only works for 0 depths')\n",
    "\n",
    "    return(colat)\n",
    "\n"
   ]
  },
  {
   "cell_type": "code",
   "execution_count": 13,
   "metadata": {},
   "outputs": [
    {
     "name": "stdout",
     "output_type": "stream",
     "text": [
      "geocentric has to be a Boolean value\n"
     ]
    },
    {
     "ename": "UnboundLocalError",
     "evalue": "local variable 'colat' referenced before assignment",
     "output_type": "error",
     "traceback": [
      "\u001b[0;31m---------------------------------------------------------------------------\u001b[0m",
      "\u001b[0;31mUnboundLocalError\u001b[0m                         Traceback (most recent call last)",
      "\u001b[0;32m~/Desktop/4th_year/4th_year_project/Project/top_data/rotate_N_pole.py\u001b[0m in \u001b[0;36m<module>\u001b[0;34m\u001b[0m\n\u001b[1;32m      2\u001b[0m \u001b[0mdepth\u001b[0m \u001b[0;34m=\u001b[0m \u001b[0;36m0\u001b[0m\u001b[0;34m\u001b[0m\u001b[0;34m\u001b[0m\u001b[0m\n\u001b[1;32m      3\u001b[0m \u001b[0mgeocentric\u001b[0m \u001b[0;34m=\u001b[0m \u001b[0;34m'True'\u001b[0m\u001b[0;34m\u001b[0m\u001b[0;34m\u001b[0m\u001b[0m\n\u001b[0;32m----> 4\u001b[0;31m \u001b[0mcolat_test\u001b[0m \u001b[0;34m=\u001b[0m \u001b[0mlat_to_colat\u001b[0m\u001b[0;34m(\u001b[0m\u001b[0mlat_test\u001b[0m\u001b[0;34m,\u001b[0m \u001b[0mdepth\u001b[0m\u001b[0;34m,\u001b[0m \u001b[0mgeocentric\u001b[0m\u001b[0;34m)\u001b[0m\u001b[0;34m\u001b[0m\u001b[0;34m\u001b[0m\u001b[0m\n\u001b[0m",
      "\u001b[0;32m~/Desktop/4th_year/4th_year_project/Project/top_data/rotate_N_pole.py\u001b[0m in \u001b[0;36mlat_to_colat\u001b[0;34m(lat, depth, geocentric)\u001b[0m\n\u001b[1;32m     35\u001b[0m     \u001b[0;31m#         print('Function only works for 0 depths')\u001b[0m\u001b[0;34m\u001b[0m\u001b[0;34m\u001b[0m\u001b[0;34m\u001b[0m\u001b[0m\n\u001b[1;32m     36\u001b[0m \u001b[0;34m\u001b[0m\u001b[0m\n\u001b[0;32m---> 37\u001b[0;31m     \u001b[0;32mreturn\u001b[0m\u001b[0;34m(\u001b[0m\u001b[0mcolat\u001b[0m\u001b[0;34m)\u001b[0m\u001b[0;34m\u001b[0m\u001b[0;34m\u001b[0m\u001b[0m\n\u001b[0m\u001b[1;32m     38\u001b[0m \u001b[0;34m\u001b[0m\u001b[0m\n",
      "\u001b[0;31mUnboundLocalError\u001b[0m: local variable 'colat' referenced before assignment"
     ]
    }
   ],
   "source": [
    "lat_test = 45\n",
    "depth = 0\n",
    "geocentric = 'True'\n",
    "colat_test = lat_to_colat(lat_test, depth, geocentric)"
   ]
  },
  {
   "cell_type": "code",
   "execution_count": 14,
   "metadata": {},
   "outputs": [],
   "source": [
    "import numpy as np\n",
    "from math import pi, sin, cos, sqrt\n",
    "\n",
    "def wgs84(): #WGSS84 coordinate system with Greenwich as lon = 0\n",
    "    # set semi-major axis of the oblate spheroid Earth, in m\n",
    "    a = 6378137.0\n",
    "    # set semi-minor axis of the oblate spheroid Earth, in m\n",
    "    b = 6356752.314245\n",
    "    # calculate inverse flattening f\n",
    "    f = a/(a-b)\n",
    "    # calculate squared eccentricity e\n",
    "    e_2 = (a**2-b**2)/a**2\n",
    "    return(a,b,e_2,f)\n",
    "\n",
    "def lat_to_colat(lat, depth, geocentric): \n",
    "    \"\"\"\n",
    "    Due to ellipticity, the colatitude cannot just be calculated by \n",
    "    the simple 90-lat method. Function returns colatitude, given \n",
    "    either the geographic latitude or the geocetric latitude, and \n",
    "    depth of source. Set geocentric equal to 'True' if input latitudes \n",
    "    are geocentric, and 'False' if geographic. \n",
    "    \"\"\"\n",
    "    if geocentric != 'True' or 'False':\n",
    "        print('geocentric has to be a Boolean value')\n",
    "    elif geocentric == 'True':\n",
    "        # Ellipticity already accounted for\n",
    "        if depth == 0:\n",
    "            colat = 90 - lat\n",
    "        else: \n",
    "            print('Function only works for 0 depths')\n",
    "    # else:\n",
    "    #     e_2 = wgs84()[2] # returns the 3rd item from function ouputs \n",
    "    #     if depth == 0: \n",
    "    #         colat = np.rad2deg(np.arctan((1 - e_2) * np.tan(np.deg2rad(lat))))\n",
    "    #         # This is for source depth = 0, how to incorporate depths?\n",
    "    #     else:\n",
    "    #         print('Function only works for 0 depths')\n",
    "\n",
    "    return(colat)\n",
    "\n"
   ]
  },
  {
   "cell_type": "code",
   "execution_count": 15,
   "metadata": {},
   "outputs": [
    {
     "name": "stdout",
     "output_type": "stream",
     "text": [
      "geocentric has to be a Boolean value\n"
     ]
    },
    {
     "ename": "UnboundLocalError",
     "evalue": "local variable 'colat' referenced before assignment",
     "output_type": "error",
     "traceback": [
      "\u001b[0;31m---------------------------------------------------------------------------\u001b[0m",
      "\u001b[0;31mUnboundLocalError\u001b[0m                         Traceback (most recent call last)",
      "\u001b[0;32m~/Desktop/4th_year/4th_year_project/Project/top_data/rotate_N_pole.py\u001b[0m in \u001b[0;36m<module>\u001b[0;34m\u001b[0m\n\u001b[1;32m      2\u001b[0m \u001b[0mdepth\u001b[0m \u001b[0;34m=\u001b[0m \u001b[0;36m0\u001b[0m\u001b[0;34m\u001b[0m\u001b[0;34m\u001b[0m\u001b[0m\n\u001b[1;32m      3\u001b[0m \u001b[0mgeocentric\u001b[0m \u001b[0;34m=\u001b[0m \u001b[0;34m'True'\u001b[0m\u001b[0;34m\u001b[0m\u001b[0;34m\u001b[0m\u001b[0m\n\u001b[0;32m----> 4\u001b[0;31m \u001b[0mlat_to_colat\u001b[0m\u001b[0;34m(\u001b[0m\u001b[0mlat_test\u001b[0m\u001b[0;34m,\u001b[0m \u001b[0mdepth\u001b[0m\u001b[0;34m,\u001b[0m \u001b[0mgeocentric\u001b[0m\u001b[0;34m)\u001b[0m\u001b[0;34m\u001b[0m\u001b[0;34m\u001b[0m\u001b[0m\n\u001b[0m",
      "\u001b[0;32m~/Desktop/4th_year/4th_year_project/Project/top_data/rotate_N_pole.py\u001b[0m in \u001b[0;36mlat_to_colat\u001b[0;34m(lat, depth, geocentric)\u001b[0m\n\u001b[1;32m     37\u001b[0m     \u001b[0;31m#         print('Function only works for 0 depths')\u001b[0m\u001b[0;34m\u001b[0m\u001b[0;34m\u001b[0m\u001b[0;34m\u001b[0m\u001b[0m\n\u001b[1;32m     38\u001b[0m \u001b[0;34m\u001b[0m\u001b[0m\n\u001b[0;32m---> 39\u001b[0;31m     \u001b[0;32mreturn\u001b[0m\u001b[0;34m(\u001b[0m\u001b[0mcolat\u001b[0m\u001b[0;34m)\u001b[0m\u001b[0;34m\u001b[0m\u001b[0;34m\u001b[0m\u001b[0m\n\u001b[0m\u001b[1;32m     40\u001b[0m \u001b[0;34m\u001b[0m\u001b[0m\n",
      "\u001b[0;31mUnboundLocalError\u001b[0m: local variable 'colat' referenced before assignment"
     ]
    }
   ],
   "source": [
    "lat_test = 45\n",
    "depth = 0\n",
    "geocentric = 'True'\n",
    "lat_to_colat(lat_test, depth, geocentric)"
   ]
  },
  {
   "cell_type": "code",
   "execution_count": 16,
   "metadata": {},
   "outputs": [
    {
     "ename": "ModuleNotFoundError",
     "evalue": "No module named 'x_Prt'",
     "output_type": "error",
     "traceback": [
      "\u001b[0;31m---------------------------------------------------------------------------\u001b[0m",
      "\u001b[0;31mModuleNotFoundError\u001b[0m                       Traceback (most recent call last)",
      "\u001b[0;32m~/Desktop/4th_year/4th_year_project/Project/top_data/rotate_N_pole.py\u001b[0m in \u001b[0;36m<module>\u001b[0;34m\u001b[0m\n\u001b[0;32m----> 1\u001b[0;31m \u001b[0;32mimport\u001b[0m \u001b[0mx_Prt\u001b[0m\u001b[0;34m\u001b[0m\u001b[0;34m\u001b[0m\u001b[0m\n\u001b[0m\u001b[1;32m      2\u001b[0m \u001b[0mrange\u001b[0m\u001b[0;34m(\u001b[0m\u001b[0mlen\u001b[0m\u001b[0;34m(\u001b[0m\u001b[0mx\u001b[0m\u001b[0;34m)\u001b[0m\u001b[0;34m)\u001b[0m\u001b[0;34m\u001b[0m\u001b[0;34m\u001b[0m\u001b[0m\n",
      "\u001b[0;31mModuleNotFoundError\u001b[0m: No module named 'x_Prt'"
     ]
    }
   ],
   "source": [
    "import x_Prt\n",
    "range(len(x))"
   ]
  },
  {
   "cell_type": "code",
   "execution_count": 17,
   "metadata": {},
   "outputs": [],
   "source": [
    "from pathlib import Path\n",
    "import netCDF4 as nc4\n",
    "import numpy as np\n",
    "import numpy.ma as ma\n",
    "\n",
    "data_folder = Path('/Users/kristiinajoon/Desktop/4th_year/4th_year_project/Project/top_data/GEBCO_2019/')\n",
    "file2open = data_folder / 'GEBCO_2019.nc' #file with location\n",
    "nc_GEBCO = nc4.Dataset(file2open, 'r')\n",
    "raw_lat = nc_GEBCO.variables['lat'][:] # in degrees N\n",
    "raw_lon = nc_GEBCO.variables['lon'] [:]# in degrees E \n",
    "raw_elevation = nc_GEBCO.variables['elevation'] [:] \n",
    "# in m as height above reference ellipsoid\n",
    "\n",
    "# Unmask arrays\n",
    "raw_lat = np.ma.getdata(raw_lat)\n",
    "raw_lon = np.ma.getdata(raw_lon)\n",
    "raw_elevation = np.ma.getdata(raw_elevation)\n",
    "\n",
    "# Define domain\n",
    "# Find indices for 35.5-41.4N & -22 - -14.5E \n",
    "lat_max = 41.4 \n",
    "lat_min = 35.5\n",
    "lon_max = -14.5\n",
    "lon_min = -22\n",
    "bounds = [lat_max, lat_min, lon_max, lon_min]\n",
    "\n",
    "def find_nearest(array, value):\n",
    "    array = np.asarray(array)\n",
    "    indx = (np.abs(array - value)).argmin()\n",
    "    return indx\n",
    "\n",
    "def truncate_domain(lat, lon, value, bounds):\n",
    "    \"\"\" \n",
    "    Input lat, lon, elevatin value of interest (topography, depth to Moho \n",
    "    etc.), and domain boundaries as an array of 4 elements, in the order: \n",
    "    max latitude, min latitude, max longitude, min longitude. \n",
    "    \"\"\"\n",
    "    #Find indices\n",
    "    indx_lat_max = find_nearest(lat, bounds[0])\n",
    "    indx_lat_min = find_nearest(lat, bounds[1])\n",
    "    indx_lon_max = find_nearest(lon, bounds[2])\n",
    "    indx_lon_min = find_nearest(lon, bounds[3])\n",
    "    #Truncate domain\n",
    "    lat_domain = lat[indx_lat_min:indx_lat_max]\n",
    "    lon_domain = lon[indx_lon_min:indx_lon_max]\n",
    "    n = len(value)\n",
    "    if n == len(lat):\n",
    "        value_domain = value[indx_lat_min:indx_lat_max, indx_lon_min:indx_lon_max]\n",
    "    elif n == len(lon): \n",
    "        value_domain = value[indx_lon_min:indx_lon_max, indx_lat_min:indx_lat_max]\n",
    "    else: \n",
    "        print('Array must have same dimensions as lat and lon')\n",
    "    return(lat_domain, lon_domain, value_domain)\n",
    "\n",
    "#Truncate domain\n",
    "(lat_Prt, lon_Prt, bathy_Prt) = truncate_domain(raw_lat, raw_lon, raw_elevation, bounds)\n"
   ]
  },
  {
   "cell_type": "code",
   "execution_count": 18,
   "metadata": {},
   "outputs": [
    {
     "ename": "SyntaxError",
     "evalue": "invalid syntax (<ipython-input-18-dab31aecb267>, line 62)",
     "output_type": "error",
     "traceback": [
      "\u001b[0;36m  File \u001b[0;32m\"<ipython-input-18-dab31aecb267>\"\u001b[0;36m, line \u001b[0;32m62\u001b[0m\n\u001b[0;31m    ([x_rot][i,:], [y_rot][i,:], [z_rot][i,:]) = rotation_matrix(src_colat, src_lon).transpose() np.matmul ([x][i,:], [y][i,:], [z][i,:])\u001b[0m\n\u001b[0m                                                                                                  ^\u001b[0m\n\u001b[0;31mSyntaxError\u001b[0m\u001b[0;31m:\u001b[0m invalid syntax\n"
     ]
    }
   ],
   "source": [
    "import numpy as np\n",
    "from math import pi, sin, cos, sqrt\n",
    "\n",
    "# From Kuangdai's code: \n",
    "# RDCol3 Geodesy::rotateGlob2Src(const RDCol3 &rtpG, double srclat, double srclon, double srcdep) {\n",
    "#     const RDCol3 &xyzG = toCartesian(rtpG);\n",
    "#     const RDCol3 &xyzS = rotationMatrix(lat2Theta_d(srclat, srcdep), lon2Phi(srclon)).transpose() * xyzG;\n",
    "#     bool defined = true;\n",
    "#     RDCol3 rtpS = toSpherical(xyzS, defined);\n",
    "#     if (!defined) {\n",
    "#         rtpS(2) = rtpG(2);\n",
    "#     }\n",
    "#     return rtpS;\n",
    "# }\n",
    "\n",
    "### SCHEISSE CODE\n",
    "# def rotate_N_pole(src_lat, src_lon, src_depth, x, y, z):\n",
    "#     \"\"\"\n",
    "#     Input source latitude & longitude, and data file in Cartesian \n",
    "#     coordinates. Rotates to N pole using the rotation matrix. Returns\n",
    "#     the rotated data in Cartesian coordinates.\n",
    "#     \"\"\"\n",
    "\n",
    "#     # Calculate colatitude of source given depth and geographic lat\n",
    "#     src_colat = lat_to_colat(src_lat, src_depth, 'False')\n",
    "#     # Longitude in radians\n",
    "#     src_lon = pi/180*src_lon\n",
    "\n",
    "#     # How would this multipliciation work as rotation matrix is\n",
    "#     # 3-by-3 but each of x, y, and z is len(lat)-by-len(lon)\n",
    "#     x_rot = rotation_matrix(src_colat, src_lon).transpose() * x\n",
    "#     y_rot = rotation_matrix(src_colat, src_lon).transpose() * y\n",
    "#     z_rot = rotation_matrix(src_colat, src_lon).transpose() * z\n",
    "\n",
    "#     return(x_rot, y_rot, z_rot)\n",
    "\n",
    "# # Get source centered in Cartesian\n",
    "\n",
    "def rotate_N_Pole(src_lat, src_lon, x, y, z): \n",
    "    \"\"\"\n",
    "    Input source grographic latitude & longitude, and data file in \n",
    "    Cartesian coordinates. Rotates to N pole using rotation_matrix, \n",
    "    assuming depth of source is effectively 0. Returns the rotated \n",
    "    data in Cartesian coordinates.\n",
    "    \"\"\"\n",
    "    # To radians\n",
    "    src_lat = pi/180*src_lat\n",
    "    src_lon = pi/180*src_lon\n",
    "\n",
    "    # Get geocentric latitude, in rad\n",
    "    e_2 = wgs84()[2]\n",
    "    src_colat = np.arctan((1 - e_2) * np.tan(src_lat))\n",
    "\n",
    "    # Preallocate output arrays\n",
    "    (m,n) = x.shape()\n",
    "    x_rot = zeros((m,n), float)\n",
    "    y_rot = zeros((m,n), float)\n",
    "    z_rot = zeros((m,n), float)\n",
    "\n",
    "    # Compute rotated x, y, z, using matrix multiplication matmul\n",
    "    for i in range(m): \n",
    "        ([x_rot][i,:], [y_rot][i,:], [z_rot][i,:]) = rotation_matrix(src_colat, src_lon).transpose() np.matmul ([x][i,:], [y][i,:], [z][i,:])\n",
    "    \n",
    "    return(x_rot, y_rot, z_rot)\n"
   ]
  },
  {
   "cell_type": "code",
   "execution_count": 19,
   "metadata": {},
   "outputs": [],
   "source": [
    "import numpy as np\n",
    "from math import pi, sin, cos, sqrt\n",
    "\n",
    "# From Kuangdai's code: \n",
    "# RDCol3 Geodesy::rotateGlob2Src(const RDCol3 &rtpG, double srclat, double srclon, double srcdep) {\n",
    "#     const RDCol3 &xyzG = toCartesian(rtpG);\n",
    "#     const RDCol3 &xyzS = rotationMatrix(lat2Theta_d(srclat, srcdep), lon2Phi(srclon)).transpose() * xyzG;\n",
    "#     bool defined = true;\n",
    "#     RDCol3 rtpS = toSpherical(xyzS, defined);\n",
    "#     if (!defined) {\n",
    "#         rtpS(2) = rtpG(2);\n",
    "#     }\n",
    "#     return rtpS;\n",
    "# }\n",
    "\n",
    "### SCHEISSE CODE\n",
    "# def rotate_N_pole(src_lat, src_lon, src_depth, x, y, z):\n",
    "#     \"\"\"\n",
    "#     Input source latitude & longitude, and data file in Cartesian \n",
    "#     coordinates. Rotates to N pole using the rotation matrix. Returns\n",
    "#     the rotated data in Cartesian coordinates.\n",
    "#     \"\"\"\n",
    "\n",
    "#     # Calculate colatitude of source given depth and geographic lat\n",
    "#     src_colat = lat_to_colat(src_lat, src_depth, 'False')\n",
    "#     # Longitude in radians\n",
    "#     src_lon = pi/180*src_lon\n",
    "\n",
    "#     # How would this multipliciation work as rotation matrix is\n",
    "#     # 3-by-3 but each of x, y, and z is len(lat)-by-len(lon)\n",
    "#     x_rot = rotation_matrix(src_colat, src_lon).transpose() * x\n",
    "#     y_rot = rotation_matrix(src_colat, src_lon).transpose() * y\n",
    "#     z_rot = rotation_matrix(src_colat, src_lon).transpose() * z\n",
    "\n",
    "#     return(x_rot, y_rot, z_rot)\n",
    "\n",
    "# # Get source centered in Cartesian\n",
    "\n",
    "def rotate_N_Pole(src_lat, src_lon, x, y, z): \n",
    "    \"\"\"\n",
    "    Input source grographic latitude & longitude, and data file in \n",
    "    Cartesian coordinates. Rotates to N pole using rotation_matrix, \n",
    "    assuming depth of source is effectively 0. Returns the rotated \n",
    "    data in Cartesian coordinates.\n",
    "    \"\"\"\n",
    "    # To radians\n",
    "    src_lat = pi/180*src_lat\n",
    "    src_lon = pi/180*src_lon\n",
    "\n",
    "    # Get geocentric latitude, in rad\n",
    "    e_2 = wgs84()[2]\n",
    "    src_colat = np.arctan((1 - e_2) * np.tan(src_lat))\n",
    "\n",
    "    # Preallocate output arrays\n",
    "    (m,n) = x.shape()\n",
    "    x_rot = zeros((m,n), float)\n",
    "    y_rot = zeros((m,n), float)\n",
    "    z_rot = zeros((m,n), float)\n",
    "\n",
    "    # Compute rotated x, y, z, using matrix multiplication matmul\n",
    "    Q = rotation_matrix(src_colat, src_lon).transpose()\n",
    "    for i in range(m): \n",
    "        ([x_rot][i,:], [y_rot][i,:], [z_rot][i,:]) = np.matmul(Q, ([x][i,:], [y][i,:], [z][i,:]))\n",
    "    \n",
    "    return(x_rot, y_rot, z_rot)\n",
    "\n"
   ]
  },
  {
   "cell_type": "code",
   "execution_count": 20,
   "metadata": {},
   "outputs": [],
   "source": [
    "def rotate_N_Pole(src_lat, src_lon, x, y, z): \n",
    "    \"\"\"\n",
    "    Input source grographic latitude & longitude, and data file in \n",
    "    Cartesian coordinates. Rotates to N pole using rotation_matrix, \n",
    "    assuming depth of source is effectively 0. Returns the rotated \n",
    "    data in Cartesian coordinates.\n",
    "    \"\"\"\n",
    "    # To radians\n",
    "    src_lat = pi/180*src_lat\n",
    "    src_lon = pi/180*src_lon\n",
    "\n",
    "    # Get geocentric latitude, in rad\n",
    "    e_2 = wgs84()[2]\n",
    "    src_colat = np.arctan((1 - e_2) * np.tan(src_lat))\n",
    "\n",
    "    # Preallocate output arrays\n",
    "    (m,n) = x.shape()\n",
    "    x_rot = zeros((m,n), float)\n",
    "    y_rot = zeros((m,n), float)\n",
    "    z_rot = zeros((m,n), float)\n",
    "\n",
    "    # Compute rotated x, y, z, using matrix multiplication matmul\n",
    "    Q = rotation_matrix(src_colat, src_lon).transpose()\n",
    "    for i in range(m): \n",
    "        ([x_rot][i,:], [y_rot][i,:], [z_rot][i,:]) = np.matmul(Q, ([x][i,:], [y][i,:], [z][i,:]))\n",
    "    \n",
    "    return(x_rot, y_rot, z_rot)\n",
    "    "
   ]
  },
  {
   "cell_type": "code",
   "execution_count": 21,
   "metadata": {},
   "outputs": [],
   "source": [
    "import numpy as np\n",
    "from math import pi, sin, cos, sqrt\n",
    "\n",
    "def wgs84(): #WGSS84 coordinate system with Greenwich as lon = 0\n",
    "    # set semi-major axis of the oblate spheroid Earth, in m\n",
    "    a = 6378137.0\n",
    "    # set semi-minor axis of the oblate spheroid Earth, in m\n",
    "    b = 6356752.314245\n",
    "    # calculate inverse flattening f\n",
    "    f = a/(a-b)\n",
    "    # calculate squared eccentricity e\n",
    "    e_2 = (a**2-b**2)/a**2\n",
    "    return(a,b,e_2,f)\n",
    "\n",
    "def geograph_to_geocent(theta):\n",
    "    # https://en.wikipedia.org/wiki/Latitude#Geocentric_latitude\n",
    "    e_2 = wgs84()[2] # returns the 3rd item from function ouputs \n",
    "    theta = np.rad2deg(np.arctan((1 - e_2) * np.tan(np.deg2rad(theta))))\n",
    "    return theta\n",
    "\n",
    "lat_Prt_cnt = geograph_to_geocent(lat_Prt) \n"
   ]
  },
  {
   "cell_type": "code",
   "execution_count": 22,
   "metadata": {},
   "outputs": [],
   "source": [
    "import numpy as np\n",
    "from math import pi, sin, cos, sqrt\n",
    "\n",
    "# Reference surface will be the Earth as defined by the WGS84 ellipsoid\n",
    "def radius_cnt(lat):\n",
    "    a = wgs84()[0]\n",
    "    b = wgs84()[1]\n",
    "    # Calculate radius for reference ellipsoid\n",
    "    # in m \n",
    "    lat = pi/180*lat\n",
    "    # for i in range(len(lat)): \n",
    "    r_cnt = np.sqrt((a**2*(np.cos(lat)**2)) + (b**2*(np.sin(lat)**2)))\n",
    "    return(r_cnt)\n",
    "\n",
    "len_lon = len(lon_Prt)\n",
    "# Calculate radius of reference surface at geocentric latitudes\n",
    "r_cnt = radius_cnt(lat_Prt_cnt) \n",
    "r_cnt = np.array([r_cnt,]*len_lon).conj().transpose()\n",
    "# Calculate the radius for each bathymetry data point, in km \n",
    "r_cnt_bathy = (r_cnt + bathy_Prt)/1000 \n",
    "# Calculate the colatitude to define a spherical coordinate system\n",
    "colat_Prt_cnt = 90 - lat_Prt_cnt\n"
   ]
  },
  {
   "cell_type": "code",
   "execution_count": 23,
   "metadata": {},
   "outputs": [],
   "source": [
    "\n",
    "def sph_to_cartesian(r,colat,lon):\n",
    "    \"\"\"\n",
    "    Function to transform from spherical polar coordinates to \n",
    "    Cartesian coordinates. Function takes three arguments: \n",
    "    radius from origin (0,0,0), colatitude (inclination), \n",
    "    longitude (azimuth). Angles in degrees.\n",
    "    \"\"\" \n",
    "    # Degrees to rad\n",
    "    colat = pi/180*colat \n",
    "    lon = pi/180*lon\n",
    "\n",
    "    # Reshape colat, lon to match shape of r\n",
    "    (n,m) = r.shape\n",
    "\n",
    "    if len(colat) == n:\n",
    "        colat = np.array([colat]*m).conj().transpose()\n",
    "    elif len(colat) == m: \n",
    "        colat = np.array([colat]*n)\n",
    "    else:\n",
    "        print('Input arguments must have at least one identical array dimension')\n",
    "\n",
    "    if len(lon) == n:\n",
    "        lon = np.array([lon]*m).conj().transpose()\n",
    "    elif len(lon) == m: \n",
    "        lon = np.array([lon]*n)\n",
    "    else:\n",
    "        print('Input arguments must have at least one identical array dimension')\n",
    "\n",
    "    # Transform\n",
    "    x = r*np.sin(colat)*np.cos(lon)\n",
    "    y = r*np.sin(colat)* np.sin(lon)\n",
    "    z = r*np.cos(colat)\n",
    "\n",
    "    return(x,y,z)\n",
    "\n",
    "\n",
    "(x_Prt,y_Prt,z_Prt) = sph_to_cartesian(r_cnt_bathy, colat_Prt_cnt, lon_Prt)\n"
   ]
  },
  {
   "cell_type": "code",
   "execution_count": 24,
   "metadata": {},
   "outputs": [],
   "source": [
    "import numpy as np\n",
    "from math import pi, sin, cos, sqrt\n",
    "\n",
    "# From Kuangdai's code: \n",
    "# RDCol3 Geodesy::rotateGlob2Src(const RDCol3 &rtpG, double srclat, double srclon, double srcdep) {\n",
    "#     const RDCol3 &xyzG = toCartesian(rtpG);\n",
    "#     const RDCol3 &xyzS = rotationMatrix(lat2Theta_d(srclat, srcdep), lon2Phi(srclon)).transpose() * xyzG;\n",
    "#     bool defined = true;\n",
    "#     RDCol3 rtpS = toSpherical(xyzS, defined);\n",
    "#     if (!defined) {\n",
    "#         rtpS(2) = rtpG(2);\n",
    "#     }\n",
    "#     return rtpS;\n",
    "# }\n",
    "\n",
    "### SCHEISSE CODE\n",
    "# def rotate_N_pole(src_lat, src_lon, src_depth, x, y, z):\n",
    "#     \"\"\"\n",
    "#     Input source latitude & longitude, and data file in Cartesian \n",
    "#     coordinates. Rotates to N pole using the rotation matrix. Returns\n",
    "#     the rotated data in Cartesian coordinates.\n",
    "#     \"\"\"\n",
    "\n",
    "#     # Calculate colatitude of source given depth and geographic lat\n",
    "#     src_colat = lat_to_colat(src_lat, src_depth, 'False')\n",
    "#     # Longitude in radians\n",
    "#     src_lon = pi/180*src_lon\n",
    "\n",
    "#     # How would this multipliciation work as rotation matrix is\n",
    "#     # 3-by-3 but each of x, y, and z is len(lat)-by-len(lon)\n",
    "#     x_rot = rotation_matrix(src_colat, src_lon).transpose() * x\n",
    "#     y_rot = rotation_matrix(src_colat, src_lon).transpose() * y\n",
    "#     z_rot = rotation_matrix(src_colat, src_lon).transpose() * z\n",
    "\n",
    "#     return(x_rot, y_rot, z_rot)\n",
    "\n",
    "# # Get source centered in Cartesian\n",
    "\n",
    "def rotate_N_Pole(src_lat, src_lon, x, y, z): \n",
    "    \"\"\"\n",
    "    Input source grographic latitude & longitude, and data file in \n",
    "    Cartesian coordinates. Rotates to N pole using rotation_matrix, \n",
    "    assuming depth of source is effectively 0. Returns the rotated \n",
    "    data in Cartesian coordinates.\n",
    "    \"\"\"\n",
    "    # To radians\n",
    "    src_lat = pi/180*src_lat\n",
    "    src_lon = pi/180*src_lon\n",
    "\n",
    "    # Get geocentric latitude, in rad\n",
    "    e_2 = wgs84()[2]\n",
    "    src_colat = np.arctan((1 - e_2) * np.tan(src_lat))\n",
    "\n",
    "    # Preallocate output arrays\n",
    "    (m,n) = x.shape()\n",
    "    x_rot = np.zeros((m,n), float)\n",
    "    y_rot = np.zeros((m,n), float)\n",
    "    z_rot = np.zeros((m,n), float)\n",
    "\n",
    "    # Compute rotated x, y, z, using matrix multiplication matmul\n",
    "    Q = rotation_matrix(src_colat, src_lon).transpose()\n",
    "    for i in range(m): \n",
    "        ([x_rot[i,]], [y_rot[i,]], [z_rot[i,]]) = np.matmul(Q, ([x[i,]], [y[i,]], [z[i,]]))\n",
    "    \n",
    "    return(x_rot, y_rot, z_rot)\n",
    "\n",
    "# (x_Prt_rot, y_Prt_rot, z_Prt_rot) = rotate_N_Pole(38.45, -18.2, x_Prt, y_Prt, z_Prt)\n"
   ]
  },
  {
   "cell_type": "code",
   "execution_count": 25,
   "metadata": {},
   "outputs": [
    {
     "ename": "TypeError",
     "evalue": "'tuple' object is not callable",
     "output_type": "error",
     "traceback": [
      "\u001b[0;31m---------------------------------------------------------------------------\u001b[0m",
      "\u001b[0;31mTypeError\u001b[0m                                 Traceback (most recent call last)",
      "\u001b[0;32m~/Desktop/4th_year/4th_year_project/Project/top_data/rotate_N_pole.py\u001b[0m in \u001b[0;36m<module>\u001b[0;34m\u001b[0m\n\u001b[0;32m----> 1\u001b[0;31m \u001b[0;34m(\u001b[0m\u001b[0mx_Prt_rot\u001b[0m\u001b[0;34m,\u001b[0m \u001b[0my_Prt_rot\u001b[0m\u001b[0;34m,\u001b[0m \u001b[0mz_Prt_rot\u001b[0m\u001b[0;34m)\u001b[0m \u001b[0;34m=\u001b[0m \u001b[0mrotate_N_Pole\u001b[0m\u001b[0;34m(\u001b[0m\u001b[0;36m38.45\u001b[0m\u001b[0;34m,\u001b[0m \u001b[0;34m-\u001b[0m\u001b[0;36m18.2\u001b[0m\u001b[0;34m,\u001b[0m \u001b[0mx_Prt\u001b[0m\u001b[0;34m,\u001b[0m \u001b[0my_Prt\u001b[0m\u001b[0;34m,\u001b[0m \u001b[0mz_Prt\u001b[0m\u001b[0;34m)\u001b[0m\u001b[0;34m\u001b[0m\u001b[0;34m\u001b[0m\u001b[0m\n\u001b[0m",
      "\u001b[0;32m~/Desktop/4th_year/4th_year_project/Project/top_data/rotate_N_pole.py\u001b[0m in \u001b[0;36mrotate_N_Pole\u001b[0;34m(src_lat, src_lon, x, y, z)\u001b[0m\n\u001b[1;32m     53\u001b[0m \u001b[0;34m\u001b[0m\u001b[0m\n\u001b[1;32m     54\u001b[0m     \u001b[0;31m# Preallocate output arrays\u001b[0m\u001b[0;34m\u001b[0m\u001b[0;34m\u001b[0m\u001b[0;34m\u001b[0m\u001b[0m\n\u001b[0;32m---> 55\u001b[0;31m     \u001b[0;34m(\u001b[0m\u001b[0mm\u001b[0m\u001b[0;34m,\u001b[0m\u001b[0mn\u001b[0m\u001b[0;34m)\u001b[0m \u001b[0;34m=\u001b[0m \u001b[0mx\u001b[0m\u001b[0;34m.\u001b[0m\u001b[0mshape\u001b[0m\u001b[0;34m(\u001b[0m\u001b[0;34m)\u001b[0m\u001b[0;34m\u001b[0m\u001b[0;34m\u001b[0m\u001b[0m\n\u001b[0m\u001b[1;32m     56\u001b[0m     \u001b[0mx_rot\u001b[0m \u001b[0;34m=\u001b[0m \u001b[0mnp\u001b[0m\u001b[0;34m.\u001b[0m\u001b[0mzeros\u001b[0m\u001b[0;34m(\u001b[0m\u001b[0;34m(\u001b[0m\u001b[0mm\u001b[0m\u001b[0;34m,\u001b[0m\u001b[0mn\u001b[0m\u001b[0;34m)\u001b[0m\u001b[0;34m,\u001b[0m \u001b[0mfloat\u001b[0m\u001b[0;34m)\u001b[0m\u001b[0;34m\u001b[0m\u001b[0;34m\u001b[0m\u001b[0m\n\u001b[1;32m     57\u001b[0m     \u001b[0my_rot\u001b[0m \u001b[0;34m=\u001b[0m \u001b[0mnp\u001b[0m\u001b[0;34m.\u001b[0m\u001b[0mzeros\u001b[0m\u001b[0;34m(\u001b[0m\u001b[0;34m(\u001b[0m\u001b[0mm\u001b[0m\u001b[0;34m,\u001b[0m\u001b[0mn\u001b[0m\u001b[0;34m)\u001b[0m\u001b[0;34m,\u001b[0m \u001b[0mfloat\u001b[0m\u001b[0;34m)\u001b[0m\u001b[0;34m\u001b[0m\u001b[0;34m\u001b[0m\u001b[0m\n",
      "\u001b[0;31mTypeError\u001b[0m: 'tuple' object is not callable"
     ]
    }
   ],
   "source": [
    "\n",
    "(x_Prt_rot, y_Prt_rot, z_Prt_rot) = rotate_N_Pole(38.45, -18.2, x_Prt, y_Prt, z_Prt)"
   ]
  },
  {
   "cell_type": "code",
   "execution_count": 26,
   "metadata": {},
   "outputs": [
    {
     "ename": "TypeError",
     "evalue": "'tuple' object is not callable",
     "output_type": "error",
     "traceback": [
      "\u001b[0;31m---------------------------------------------------------------------------\u001b[0m",
      "\u001b[0;31mTypeError\u001b[0m                                 Traceback (most recent call last)",
      "\u001b[0;32m~/Desktop/4th_year/4th_year_project/Project/top_data/rotate_N_pole.py\u001b[0m in \u001b[0;36m<module>\u001b[0;34m\u001b[0m\n\u001b[0;32m----> 1\u001b[0;31m \u001b[0;34m(\u001b[0m\u001b[0mx_Prt_rot\u001b[0m\u001b[0;34m,\u001b[0m \u001b[0my_Prt_rot\u001b[0m\u001b[0;34m,\u001b[0m \u001b[0mz_Prt_rot\u001b[0m\u001b[0;34m)\u001b[0m \u001b[0;34m=\u001b[0m \u001b[0mrotate_N_Pole\u001b[0m\u001b[0;34m(\u001b[0m\u001b[0;36m38.45\u001b[0m\u001b[0;34m,\u001b[0m \u001b[0;34m-\u001b[0m\u001b[0;36m18.2\u001b[0m\u001b[0;34m,\u001b[0m \u001b[0mx_Prt\u001b[0m\u001b[0;34m,\u001b[0m \u001b[0my_Prt\u001b[0m\u001b[0;34m,\u001b[0m \u001b[0mz_Prt\u001b[0m\u001b[0;34m)\u001b[0m\u001b[0;34m\u001b[0m\u001b[0;34m\u001b[0m\u001b[0m\n\u001b[0m",
      "\u001b[0;32m~/Desktop/4th_year/4th_year_project/Project/top_data/rotate_N_pole.py\u001b[0m in \u001b[0;36mrotate_N_Pole\u001b[0;34m(src_lat, src_lon, x, y, z)\u001b[0m\n\u001b[1;32m     53\u001b[0m \u001b[0;34m\u001b[0m\u001b[0m\n\u001b[1;32m     54\u001b[0m     \u001b[0;31m# Preallocate output arrays\u001b[0m\u001b[0;34m\u001b[0m\u001b[0;34m\u001b[0m\u001b[0;34m\u001b[0m\u001b[0m\n\u001b[0;32m---> 55\u001b[0;31m     \u001b[0;34m(\u001b[0m\u001b[0mm\u001b[0m\u001b[0;34m,\u001b[0m\u001b[0mn\u001b[0m\u001b[0;34m)\u001b[0m \u001b[0;34m=\u001b[0m \u001b[0mx\u001b[0m\u001b[0;34m.\u001b[0m\u001b[0mshape\u001b[0m\u001b[0;34m(\u001b[0m\u001b[0;34m)\u001b[0m\u001b[0;34m\u001b[0m\u001b[0;34m\u001b[0m\u001b[0m\n\u001b[0m\u001b[1;32m     56\u001b[0m     \u001b[0mx_rot\u001b[0m \u001b[0;34m=\u001b[0m \u001b[0mnp\u001b[0m\u001b[0;34m.\u001b[0m\u001b[0mzeros\u001b[0m\u001b[0;34m(\u001b[0m\u001b[0;34m(\u001b[0m\u001b[0mm\u001b[0m\u001b[0;34m,\u001b[0m\u001b[0mn\u001b[0m\u001b[0;34m)\u001b[0m\u001b[0;34m,\u001b[0m \u001b[0mfloat\u001b[0m\u001b[0;34m)\u001b[0m\u001b[0;34m\u001b[0m\u001b[0;34m\u001b[0m\u001b[0m\n\u001b[1;32m     57\u001b[0m     \u001b[0my_rot\u001b[0m \u001b[0;34m=\u001b[0m \u001b[0mnp\u001b[0m\u001b[0;34m.\u001b[0m\u001b[0mzeros\u001b[0m\u001b[0;34m(\u001b[0m\u001b[0;34m(\u001b[0m\u001b[0mm\u001b[0m\u001b[0;34m,\u001b[0m\u001b[0mn\u001b[0m\u001b[0;34m)\u001b[0m\u001b[0;34m,\u001b[0m \u001b[0mfloat\u001b[0m\u001b[0;34m)\u001b[0m\u001b[0;34m\u001b[0m\u001b[0;34m\u001b[0m\u001b[0m\n",
      "\u001b[0;31mTypeError\u001b[0m: 'tuple' object is not callable"
     ]
    }
   ],
   "source": [
    "(x_Prt_rot, y_Prt_rot, z_Prt_rot) = rotate_N_Pole(38.45, -18.2, x_Prt, y_Prt, z_Prt)"
   ]
  },
  {
   "cell_type": "code",
   "execution_count": 27,
   "metadata": {},
   "outputs": [
    {
     "ename": "TypeError",
     "evalue": "'tuple' object is not callable",
     "output_type": "error",
     "traceback": [
      "\u001b[0;31m---------------------------------------------------------------------------\u001b[0m",
      "\u001b[0;31mTypeError\u001b[0m                                 Traceback (most recent call last)",
      "\u001b[0;32m~/Desktop/4th_year/4th_year_project/Project/top_data/rotate_N_pole.py\u001b[0m in \u001b[0;36m<module>\u001b[0;34m\u001b[0m\n\u001b[0;32m----> 1\u001b[0;31m \u001b[0mx_Prt\u001b[0m\u001b[0;34m.\u001b[0m\u001b[0mshape\u001b[0m\u001b[0;34m(\u001b[0m\u001b[0;34m)\u001b[0m\u001b[0;34m\u001b[0m\u001b[0;34m\u001b[0m\u001b[0m\n\u001b[0m",
      "\u001b[0;31mTypeError\u001b[0m: 'tuple' object is not callable"
     ]
    }
   ],
   "source": [
    "x_Prt.shape()"
   ]
  },
  {
   "cell_type": "code",
   "execution_count": 28,
   "metadata": {},
   "outputs": [
    {
     "data": {
      "text/plain": [
       "(1416, 1800)"
      ]
     },
     "execution_count": 28,
     "metadata": {},
     "output_type": "execute_result"
    }
   ],
   "source": [
    "x_Prt.shape"
   ]
  },
  {
   "cell_type": "code",
   "execution_count": 29,
   "metadata": {},
   "outputs": [],
   "source": [
    "import numpy as np\n",
    "from math import pi, sin, cos, sqrt\n",
    "\n",
    "# From Kuangdai's code: \n",
    "# RDCol3 Geodesy::rotateGlob2Src(const RDCol3 &rtpG, double srclat, double srclon, double srcdep) {\n",
    "#     const RDCol3 &xyzG = toCartesian(rtpG);\n",
    "#     const RDCol3 &xyzS = rotationMatrix(lat2Theta_d(srclat, srcdep), lon2Phi(srclon)).transpose() * xyzG;\n",
    "#     bool defined = true;\n",
    "#     RDCol3 rtpS = toSpherical(xyzS, defined);\n",
    "#     if (!defined) {\n",
    "#         rtpS(2) = rtpG(2);\n",
    "#     }\n",
    "#     return rtpS;\n",
    "# }\n",
    "\n",
    "### SCHEISSE CODE\n",
    "# def rotate_N_pole(src_lat, src_lon, src_depth, x, y, z):\n",
    "#     \"\"\"\n",
    "#     Input source latitude & longitude, and data file in Cartesian \n",
    "#     coordinates. Rotates to N pole using the rotation matrix. Returns\n",
    "#     the rotated data in Cartesian coordinates.\n",
    "#     \"\"\"\n",
    "\n",
    "#     # Calculate colatitude of source given depth and geographic lat\n",
    "#     src_colat = lat_to_colat(src_lat, src_depth, 'False')\n",
    "#     # Longitude in radians\n",
    "#     src_lon = pi/180*src_lon\n",
    "\n",
    "#     # How would this multipliciation work as rotation matrix is\n",
    "#     # 3-by-3 but each of x, y, and z is len(lat)-by-len(lon)\n",
    "#     x_rot = rotation_matrix(src_colat, src_lon).transpose() * x\n",
    "#     y_rot = rotation_matrix(src_colat, src_lon).transpose() * y\n",
    "#     z_rot = rotation_matrix(src_colat, src_lon).transpose() * z\n",
    "\n",
    "#     return(x_rot, y_rot, z_rot)\n",
    "\n",
    "# # Get source centered in Cartesian\n",
    "\n",
    "def rotate_N_Pole(src_lat, src_lon, x, y, z): \n",
    "    \"\"\"\n",
    "    Input source grographic latitude & longitude, and data file in \n",
    "    Cartesian coordinates. Rotates to N pole using rotation_matrix, \n",
    "    assuming depth of source is effectively 0. Returns the rotated \n",
    "    data in Cartesian coordinates.\n",
    "    \"\"\"\n",
    "    # To radians\n",
    "    src_lat = pi/180*src_lat\n",
    "    src_lon = pi/180*src_lon\n",
    "\n",
    "    # Get geocentric latitude, in rad\n",
    "    e_2 = wgs84()[2]\n",
    "    src_colat = np.arctan((1 - e_2) * np.tan(src_lat))\n",
    "\n",
    "    # Preallocate output arrays\n",
    "    (m,n) = x.shape\n",
    "    x_rot = np.zeros((m,n), float)\n",
    "    y_rot = np.zeros((m,n), float)\n",
    "    z_rot = np.zeros((m,n), float)\n",
    "\n",
    "    # Compute rotated x, y, z, using matrix multiplication matmul\n",
    "    Q = rotation_matrix(src_colat, src_lon).transpose()\n",
    "    for i in range(m): \n",
    "        ([x_rot[i,]], [y_rot[i,]], [z_rot[i,]]) = np.matmul(Q, ([x[i,]], [y[i,]], [z[i,]]))\n",
    "    \n",
    "    return(x_rot, y_rot, z_rot)\n"
   ]
  },
  {
   "cell_type": "code",
   "execution_count": 30,
   "metadata": {},
   "outputs": [
    {
     "ename": "NameError",
     "evalue": "name 'rotation_matrix' is not defined",
     "output_type": "error",
     "traceback": [
      "\u001b[0;31m---------------------------------------------------------------------------\u001b[0m",
      "\u001b[0;31mNameError\u001b[0m                                 Traceback (most recent call last)",
      "\u001b[0;32m~/Desktop/4th_year/4th_year_project/Project/top_data/rotate_N_pole.py\u001b[0m in \u001b[0;36m<module>\u001b[0;34m\u001b[0m\n\u001b[0;32m----> 1\u001b[0;31m \u001b[0;34m(\u001b[0m\u001b[0mx_Prt_rot\u001b[0m\u001b[0;34m,\u001b[0m \u001b[0my_Prt_rot\u001b[0m\u001b[0;34m,\u001b[0m \u001b[0mz_Prt_rot\u001b[0m\u001b[0;34m)\u001b[0m \u001b[0;34m=\u001b[0m \u001b[0mrotate_N_Pole\u001b[0m\u001b[0;34m(\u001b[0m\u001b[0;36m38.45\u001b[0m\u001b[0;34m,\u001b[0m \u001b[0;34m-\u001b[0m\u001b[0;36m18.2\u001b[0m\u001b[0;34m,\u001b[0m \u001b[0mx_Prt\u001b[0m\u001b[0;34m,\u001b[0m \u001b[0my_Prt\u001b[0m\u001b[0;34m,\u001b[0m \u001b[0mz_Prt\u001b[0m\u001b[0;34m)\u001b[0m\u001b[0;34m\u001b[0m\u001b[0;34m\u001b[0m\u001b[0m\n\u001b[0m",
      "\u001b[0;32m~/Desktop/4th_year/4th_year_project/Project/top_data/rotate_N_pole.py\u001b[0m in \u001b[0;36mrotate_N_Pole\u001b[0;34m(src_lat, src_lon, x, y, z)\u001b[0m\n\u001b[1;32m     59\u001b[0m \u001b[0;34m\u001b[0m\u001b[0m\n\u001b[1;32m     60\u001b[0m     \u001b[0;31m# Compute rotated x, y, z, using matrix multiplication matmul\u001b[0m\u001b[0;34m\u001b[0m\u001b[0;34m\u001b[0m\u001b[0;34m\u001b[0m\u001b[0m\n\u001b[0;32m---> 61\u001b[0;31m     \u001b[0mQ\u001b[0m \u001b[0;34m=\u001b[0m \u001b[0mrotation_matrix\u001b[0m\u001b[0;34m(\u001b[0m\u001b[0msrc_colat\u001b[0m\u001b[0;34m,\u001b[0m \u001b[0msrc_lon\u001b[0m\u001b[0;34m)\u001b[0m\u001b[0;34m.\u001b[0m\u001b[0mtranspose\u001b[0m\u001b[0;34m(\u001b[0m\u001b[0;34m)\u001b[0m\u001b[0;34m\u001b[0m\u001b[0;34m\u001b[0m\u001b[0m\n\u001b[0m\u001b[1;32m     62\u001b[0m     \u001b[0;32mfor\u001b[0m \u001b[0mi\u001b[0m \u001b[0;32min\u001b[0m \u001b[0mrange\u001b[0m\u001b[0;34m(\u001b[0m\u001b[0mm\u001b[0m\u001b[0;34m)\u001b[0m\u001b[0;34m:\u001b[0m\u001b[0;34m\u001b[0m\u001b[0;34m\u001b[0m\u001b[0m\n\u001b[1;32m     63\u001b[0m         \u001b[0;34m(\u001b[0m\u001b[0;34m[\u001b[0m\u001b[0mx_rot\u001b[0m\u001b[0;34m[\u001b[0m\u001b[0mi\u001b[0m\u001b[0;34m,\u001b[0m\u001b[0;34m]\u001b[0m\u001b[0;34m]\u001b[0m\u001b[0;34m,\u001b[0m \u001b[0;34m[\u001b[0m\u001b[0my_rot\u001b[0m\u001b[0;34m[\u001b[0m\u001b[0mi\u001b[0m\u001b[0;34m,\u001b[0m\u001b[0;34m]\u001b[0m\u001b[0;34m]\u001b[0m\u001b[0;34m,\u001b[0m \u001b[0;34m[\u001b[0m\u001b[0mz_rot\u001b[0m\u001b[0;34m[\u001b[0m\u001b[0mi\u001b[0m\u001b[0;34m,\u001b[0m\u001b[0;34m]\u001b[0m\u001b[0;34m]\u001b[0m\u001b[0;34m)\u001b[0m \u001b[0;34m=\u001b[0m \u001b[0mnp\u001b[0m\u001b[0;34m.\u001b[0m\u001b[0mmatmul\u001b[0m\u001b[0;34m(\u001b[0m\u001b[0mQ\u001b[0m\u001b[0;34m,\u001b[0m \u001b[0;34m(\u001b[0m\u001b[0;34m[\u001b[0m\u001b[0mx\u001b[0m\u001b[0;34m[\u001b[0m\u001b[0mi\u001b[0m\u001b[0;34m,\u001b[0m\u001b[0;34m]\u001b[0m\u001b[0;34m]\u001b[0m\u001b[0;34m,\u001b[0m \u001b[0;34m[\u001b[0m\u001b[0my\u001b[0m\u001b[0;34m[\u001b[0m\u001b[0mi\u001b[0m\u001b[0;34m,\u001b[0m\u001b[0;34m]\u001b[0m\u001b[0;34m]\u001b[0m\u001b[0;34m,\u001b[0m \u001b[0;34m[\u001b[0m\u001b[0mz\u001b[0m\u001b[0;34m[\u001b[0m\u001b[0mi\u001b[0m\u001b[0;34m,\u001b[0m\u001b[0;34m]\u001b[0m\u001b[0;34m]\u001b[0m\u001b[0;34m)\u001b[0m\u001b[0;34m)\u001b[0m\u001b[0;34m\u001b[0m\u001b[0;34m\u001b[0m\u001b[0m\n",
      "\u001b[0;31mNameError\u001b[0m: name 'rotation_matrix' is not defined"
     ]
    }
   ],
   "source": [
    "\n",
    "(x_Prt_rot, y_Prt_rot, z_Prt_rot) = rotate_N_Pole(38.45, -18.2, x_Prt, y_Prt, z_Prt)"
   ]
  },
  {
   "cell_type": "code",
   "execution_count": 31,
   "metadata": {},
   "outputs": [],
   "source": [
    "\n",
    "def rotation_matrix(theta,phi): \n",
    "    \"\"\"\n",
    "    Theta - colatitude of source, phi - longitude of \n",
    "    source (both in radians). Function returns a 3-by-3\n",
    "    rotation matrix. \n",
    "    \"\"\"\n",
    "    # Preallocate output array\n",
    "    Q = np.zeros((3,3)) \n",
    "    # Fill in rotation matrix\n",
    "    Q[0,0] = cos(theta)*cos(phi)\n",
    "    Q[0,1] = -sin(phi)\n",
    "    Q[0,2] = sin(theta)*cos(phi)\n",
    "    Q[1,1] = cos(theta)*sin(phi)\n",
    "    Q[1,1] = cos(phi)\n",
    "    Q[1,2] = sin(theta)*sin(phi)\n",
    "    Q[2,0] = -sin(theta)\n",
    "    Q[2,1] = 0\n",
    "    Q[2,2] = cos(theta)\n",
    "\n",
    "    return(Q)\n",
    "\n"
   ]
  },
  {
   "cell_type": "code",
   "execution_count": 32,
   "metadata": {},
   "outputs": [
    {
     "ename": "ValueError",
     "evalue": "shapes (3,3) and (3,1,1800) not aligned: 3 (dim 1) != 1 (dim 1)",
     "output_type": "error",
     "traceback": [
      "\u001b[0;31m---------------------------------------------------------------------------\u001b[0m",
      "\u001b[0;31mValueError\u001b[0m                                Traceback (most recent call last)",
      "\u001b[0;32m~/Desktop/4th_year/4th_year_project/Project/top_data/rotate_N_pole.py\u001b[0m in \u001b[0;36m<module>\u001b[0;34m\u001b[0m\n\u001b[0;32m----> 1\u001b[0;31m \u001b[0;34m(\u001b[0m\u001b[0mx_Prt_rot\u001b[0m\u001b[0;34m,\u001b[0m \u001b[0my_Prt_rot\u001b[0m\u001b[0;34m,\u001b[0m \u001b[0mz_Prt_rot\u001b[0m\u001b[0;34m)\u001b[0m \u001b[0;34m=\u001b[0m \u001b[0mrotate_N_Pole\u001b[0m\u001b[0;34m(\u001b[0m\u001b[0;36m38.45\u001b[0m\u001b[0;34m,\u001b[0m \u001b[0;34m-\u001b[0m\u001b[0;36m18.2\u001b[0m\u001b[0;34m,\u001b[0m \u001b[0mx_Prt\u001b[0m\u001b[0;34m,\u001b[0m \u001b[0my_Prt\u001b[0m\u001b[0;34m,\u001b[0m \u001b[0mz_Prt\u001b[0m\u001b[0;34m)\u001b[0m\u001b[0;34m\u001b[0m\u001b[0;34m\u001b[0m\u001b[0m\n\u001b[0m",
      "\u001b[0;32m~/Desktop/4th_year/4th_year_project/Project/top_data/rotate_N_pole.py\u001b[0m in \u001b[0;36mrotate_N_Pole\u001b[0;34m(src_lat, src_lon, x, y, z)\u001b[0m\n\u001b[1;32m     61\u001b[0m     \u001b[0mQ\u001b[0m \u001b[0;34m=\u001b[0m \u001b[0mrotation_matrix\u001b[0m\u001b[0;34m(\u001b[0m\u001b[0msrc_colat\u001b[0m\u001b[0;34m,\u001b[0m \u001b[0msrc_lon\u001b[0m\u001b[0;34m)\u001b[0m\u001b[0;34m.\u001b[0m\u001b[0mtranspose\u001b[0m\u001b[0;34m(\u001b[0m\u001b[0;34m)\u001b[0m\u001b[0;34m\u001b[0m\u001b[0;34m\u001b[0m\u001b[0m\n\u001b[1;32m     62\u001b[0m     \u001b[0;32mfor\u001b[0m \u001b[0mi\u001b[0m \u001b[0;32min\u001b[0m \u001b[0mrange\u001b[0m\u001b[0;34m(\u001b[0m\u001b[0mm\u001b[0m\u001b[0;34m)\u001b[0m\u001b[0;34m:\u001b[0m\u001b[0;34m\u001b[0m\u001b[0;34m\u001b[0m\u001b[0m\n\u001b[0;32m---> 63\u001b[0;31m         \u001b[0;34m(\u001b[0m\u001b[0;34m[\u001b[0m\u001b[0mx_rot\u001b[0m\u001b[0;34m[\u001b[0m\u001b[0mi\u001b[0m\u001b[0;34m,\u001b[0m\u001b[0;34m]\u001b[0m\u001b[0;34m]\u001b[0m\u001b[0;34m,\u001b[0m \u001b[0;34m[\u001b[0m\u001b[0my_rot\u001b[0m\u001b[0;34m[\u001b[0m\u001b[0mi\u001b[0m\u001b[0;34m,\u001b[0m\u001b[0;34m]\u001b[0m\u001b[0;34m]\u001b[0m\u001b[0;34m,\u001b[0m \u001b[0;34m[\u001b[0m\u001b[0mz_rot\u001b[0m\u001b[0;34m[\u001b[0m\u001b[0mi\u001b[0m\u001b[0;34m,\u001b[0m\u001b[0;34m]\u001b[0m\u001b[0;34m]\u001b[0m\u001b[0;34m)\u001b[0m \u001b[0;34m=\u001b[0m \u001b[0mnp\u001b[0m\u001b[0;34m.\u001b[0m\u001b[0mmatmul\u001b[0m\u001b[0;34m(\u001b[0m\u001b[0mQ\u001b[0m\u001b[0;34m,\u001b[0m \u001b[0;34m(\u001b[0m\u001b[0;34m[\u001b[0m\u001b[0mx\u001b[0m\u001b[0;34m[\u001b[0m\u001b[0mi\u001b[0m\u001b[0;34m,\u001b[0m\u001b[0;34m]\u001b[0m\u001b[0;34m]\u001b[0m\u001b[0;34m,\u001b[0m \u001b[0;34m[\u001b[0m\u001b[0my\u001b[0m\u001b[0;34m[\u001b[0m\u001b[0mi\u001b[0m\u001b[0;34m,\u001b[0m\u001b[0;34m]\u001b[0m\u001b[0;34m]\u001b[0m\u001b[0;34m,\u001b[0m \u001b[0;34m[\u001b[0m\u001b[0mz\u001b[0m\u001b[0;34m[\u001b[0m\u001b[0mi\u001b[0m\u001b[0;34m,\u001b[0m\u001b[0;34m]\u001b[0m\u001b[0;34m]\u001b[0m\u001b[0;34m)\u001b[0m\u001b[0;34m)\u001b[0m\u001b[0;34m\u001b[0m\u001b[0;34m\u001b[0m\u001b[0m\n\u001b[0m\u001b[1;32m     64\u001b[0m \u001b[0;34m\u001b[0m\u001b[0m\n\u001b[1;32m     65\u001b[0m     \u001b[0;32mreturn\u001b[0m\u001b[0;34m(\u001b[0m\u001b[0mx_rot\u001b[0m\u001b[0;34m,\u001b[0m \u001b[0my_rot\u001b[0m\u001b[0;34m,\u001b[0m \u001b[0mz_rot\u001b[0m\u001b[0;34m)\u001b[0m\u001b[0;34m\u001b[0m\u001b[0;34m\u001b[0m\u001b[0m\n",
      "\u001b[0;31mValueError\u001b[0m: shapes (3,3) and (3,1,1800) not aligned: 3 (dim 1) != 1 (dim 1)"
     ]
    }
   ],
   "source": [
    "\n",
    "(x_Prt_rot, y_Prt_rot, z_Prt_rot) = rotate_N_Pole(38.45, -18.2, x_Prt, y_Prt, z_Prt)"
   ]
  },
  {
   "cell_type": "code",
   "execution_count": 33,
   "metadata": {},
   "outputs": [
    {
     "ename": "NameError",
     "evalue": "name 'xyz0' is not defined",
     "output_type": "error",
     "traceback": [
      "\u001b[0;31m---------------------------------------------------------------------------\u001b[0m",
      "\u001b[0;31mNameError\u001b[0m                                 Traceback (most recent call last)",
      "\u001b[0;32m~/Desktop/4th_year/4th_year_project/Project/top_data/rotate_N_pole.py\u001b[0m in \u001b[0;36m<module>\u001b[0;34m\u001b[0m\n\u001b[0;32m----> 1\u001b[0;31m \u001b[0;34m(\u001b[0m\u001b[0;34m[\u001b[0m\u001b[0mx_Prt\u001b[0m\u001b[0;34m[\u001b[0m\u001b[0;36m0\u001b[0m\u001b[0;34m,\u001b[0m\u001b[0;34m]\u001b[0m\u001b[0;34m]\u001b[0m\u001b[0;34m,\u001b[0m \u001b[0;34m[\u001b[0m\u001b[0my_Prt\u001b[0m\u001b[0;34m[\u001b[0m\u001b[0;36m0\u001b[0m\u001b[0;34m,\u001b[0m\u001b[0;34m]\u001b[0m\u001b[0;34m]\u001b[0m\u001b[0;34m,\u001b[0m \u001b[0;34m[\u001b[0m\u001b[0mz_Prt\u001b[0m\u001b[0;34m[\u001b[0m\u001b[0;36m0\u001b[0m\u001b[0;34m,\u001b[0m\u001b[0;34m]\u001b[0m\u001b[0;34m]\u001b[0m\u001b[0;34m)\u001b[0m \u001b[0;34m=\u001b[0m \u001b[0mxyz0\u001b[0m\u001b[0;34m\u001b[0m\u001b[0;34m\u001b[0m\u001b[0m\n\u001b[0m",
      "\u001b[0;31mNameError\u001b[0m: name 'xyz0' is not defined"
     ]
    }
   ],
   "source": [
    "([x_Prt[0,]], [y_Prt[0,]], [z_Prt[0,]]) = xyz0"
   ]
  },
  {
   "cell_type": "code",
   "execution_count": 34,
   "metadata": {},
   "outputs": [],
   "source": [
    "xyz0 = ([x_Prt[0,]], [y_Prt[0,]], [z_Prt[0,]])"
   ]
  },
  {
   "cell_type": "code",
   "execution_count": 35,
   "metadata": {},
   "outputs": [
    {
     "ename": "AttributeError",
     "evalue": "'tuple' object has no attribute 'shape'",
     "output_type": "error",
     "traceback": [
      "\u001b[0;31m---------------------------------------------------------------------------\u001b[0m",
      "\u001b[0;31mAttributeError\u001b[0m                            Traceback (most recent call last)",
      "\u001b[0;32m~/Desktop/4th_year/4th_year_project/Project/top_data/rotate_N_pole.py\u001b[0m in \u001b[0;36m<module>\u001b[0;34m\u001b[0m\n\u001b[0;32m----> 1\u001b[0;31m \u001b[0mxyz0\u001b[0m\u001b[0;34m.\u001b[0m\u001b[0mshape\u001b[0m\u001b[0;34m\u001b[0m\u001b[0;34m\u001b[0m\u001b[0m\n\u001b[0m",
      "\u001b[0;31mAttributeError\u001b[0m: 'tuple' object has no attribute 'shape'"
     ]
    }
   ],
   "source": [
    "xyz0.shape"
   ]
  },
  {
   "cell_type": "code",
   "execution_count": 36,
   "metadata": {},
   "outputs": [
    {
     "ename": "NameError",
     "evalue": "name 'array' is not defined",
     "output_type": "error",
     "traceback": [
      "\u001b[0;31m---------------------------------------------------------------------------\u001b[0m",
      "\u001b[0;31mNameError\u001b[0m                                 Traceback (most recent call last)",
      "\u001b[0;32m~/Desktop/4th_year/4th_year_project/Project/top_data/rotate_N_pole.py\u001b[0m in \u001b[0;36m<module>\u001b[0;34m\u001b[0m\n\u001b[0;32m----> 1\u001b[0;31m \u001b[0mxyz0\u001b[0m \u001b[0;34m=\u001b[0m \u001b[0marray\u001b[0m\u001b[0;34m(\u001b[0m\u001b[0;34m[\u001b[0m\u001b[0mx_Prt\u001b[0m\u001b[0;34m[\u001b[0m\u001b[0;36m0\u001b[0m\u001b[0;34m,\u001b[0m\u001b[0;34m]\u001b[0m\u001b[0;34m]\u001b[0m\u001b[0;34m,\u001b[0m \u001b[0;34m[\u001b[0m\u001b[0my_Prt\u001b[0m\u001b[0;34m[\u001b[0m\u001b[0;36m0\u001b[0m\u001b[0;34m,\u001b[0m\u001b[0;34m]\u001b[0m\u001b[0;34m]\u001b[0m\u001b[0;34m,\u001b[0m \u001b[0;34m[\u001b[0m\u001b[0mz_Prt\u001b[0m\u001b[0;34m[\u001b[0m\u001b[0;36m0\u001b[0m\u001b[0;34m,\u001b[0m\u001b[0;34m]\u001b[0m\u001b[0;34m]\u001b[0m\u001b[0;34m)\u001b[0m\u001b[0;34m\u001b[0m\u001b[0;34m\u001b[0m\u001b[0m\n\u001b[0m",
      "\u001b[0;31mNameError\u001b[0m: name 'array' is not defined"
     ]
    }
   ],
   "source": [
    "xyz0 = array([x_Prt[0,]], [y_Prt[0,]], [z_Prt[0,]])"
   ]
  },
  {
   "cell_type": "code",
   "execution_count": 37,
   "metadata": {},
   "outputs": [
    {
     "ename": "ValueError",
     "evalue": "only 2 non-keyword arguments accepted",
     "output_type": "error",
     "traceback": [
      "\u001b[0;31m---------------------------------------------------------------------------\u001b[0m",
      "\u001b[0;31mValueError\u001b[0m                                Traceback (most recent call last)",
      "\u001b[0;32m~/Desktop/4th_year/4th_year_project/Project/top_data/rotate_N_pole.py\u001b[0m in \u001b[0;36m<module>\u001b[0;34m\u001b[0m\n\u001b[0;32m----> 1\u001b[0;31m \u001b[0mxyz0\u001b[0m \u001b[0;34m=\u001b[0m \u001b[0mnp\u001b[0m\u001b[0;34m.\u001b[0m\u001b[0marray\u001b[0m\u001b[0;34m(\u001b[0m\u001b[0;34m[\u001b[0m\u001b[0mx_Prt\u001b[0m\u001b[0;34m[\u001b[0m\u001b[0;36m0\u001b[0m\u001b[0;34m,\u001b[0m\u001b[0;34m]\u001b[0m\u001b[0;34m]\u001b[0m\u001b[0;34m,\u001b[0m \u001b[0;34m[\u001b[0m\u001b[0my_Prt\u001b[0m\u001b[0;34m[\u001b[0m\u001b[0;36m0\u001b[0m\u001b[0;34m,\u001b[0m\u001b[0;34m]\u001b[0m\u001b[0;34m]\u001b[0m\u001b[0;34m,\u001b[0m \u001b[0;34m[\u001b[0m\u001b[0mz_Prt\u001b[0m\u001b[0;34m[\u001b[0m\u001b[0;36m0\u001b[0m\u001b[0;34m,\u001b[0m\u001b[0;34m]\u001b[0m\u001b[0;34m]\u001b[0m\u001b[0;34m)\u001b[0m\u001b[0;34m\u001b[0m\u001b[0;34m\u001b[0m\u001b[0m\n\u001b[0m",
      "\u001b[0;31mValueError\u001b[0m: only 2 non-keyword arguments accepted"
     ]
    }
   ],
   "source": [
    "xyz0 = np.array([x_Prt[0,]], [y_Prt[0,]], [z_Prt[0,]])"
   ]
  },
  {
   "cell_type": "code",
   "execution_count": 38,
   "metadata": {},
   "outputs": [
    {
     "ename": "ValueError",
     "evalue": "only 2 non-keyword arguments accepted",
     "output_type": "error",
     "traceback": [
      "\u001b[0;31m---------------------------------------------------------------------------\u001b[0m",
      "\u001b[0;31mValueError\u001b[0m                                Traceback (most recent call last)",
      "\u001b[0;32m~/Desktop/4th_year/4th_year_project/Project/top_data/rotate_N_pole.py\u001b[0m in \u001b[0;36m<module>\u001b[0;34m\u001b[0m\n\u001b[0;32m----> 1\u001b[0;31m \u001b[0mxyz0\u001b[0m \u001b[0;34m=\u001b[0m \u001b[0mnp\u001b[0m\u001b[0;34m.\u001b[0m\u001b[0marray\u001b[0m\u001b[0;34m(\u001b[0m\u001b[0;34m[\u001b[0m\u001b[0mx_Prt\u001b[0m\u001b[0;34m[\u001b[0m\u001b[0;36m0\u001b[0m\u001b[0;34m,\u001b[0m\u001b[0;34m:\u001b[0m\u001b[0;34m]\u001b[0m\u001b[0;34m]\u001b[0m\u001b[0;34m,\u001b[0m \u001b[0;34m[\u001b[0m\u001b[0my_Prt\u001b[0m\u001b[0;34m[\u001b[0m\u001b[0;36m0\u001b[0m\u001b[0;34m,\u001b[0m\u001b[0;34m:\u001b[0m\u001b[0;34m]\u001b[0m\u001b[0;34m]\u001b[0m\u001b[0;34m,\u001b[0m \u001b[0;34m[\u001b[0m\u001b[0mz_Prt\u001b[0m\u001b[0;34m[\u001b[0m\u001b[0;36m0\u001b[0m\u001b[0;34m,\u001b[0m\u001b[0;34m:\u001b[0m\u001b[0;34m]\u001b[0m\u001b[0;34m]\u001b[0m\u001b[0;34m)\u001b[0m\u001b[0;34m\u001b[0m\u001b[0;34m\u001b[0m\u001b[0m\n\u001b[0m",
      "\u001b[0;31mValueError\u001b[0m: only 2 non-keyword arguments accepted"
     ]
    }
   ],
   "source": [
    "xyz0 = np.array([x_Prt[0,:]], [y_Prt[0,:]], [z_Prt[0,:]])"
   ]
  },
  {
   "cell_type": "code",
   "execution_count": 39,
   "metadata": {},
   "outputs": [
    {
     "ename": "ValueError",
     "evalue": "only 2 non-keyword arguments accepted",
     "output_type": "error",
     "traceback": [
      "\u001b[0;31m---------------------------------------------------------------------------\u001b[0m",
      "\u001b[0;31mValueError\u001b[0m                                Traceback (most recent call last)",
      "\u001b[0;32m~/Desktop/4th_year/4th_year_project/Project/top_data/rotate_N_pole.py\u001b[0m in \u001b[0;36m<module>\u001b[0;34m\u001b[0m\n\u001b[1;32m      1\u001b[0m xyz0 = np.array([x_Prt[0,:]], \n\u001b[1;32m      2\u001b[0m                 \u001b[0;34m[\u001b[0m\u001b[0my_Prt\u001b[0m\u001b[0;34m[\u001b[0m\u001b[0;36m0\u001b[0m\u001b[0;34m,\u001b[0m\u001b[0;34m:\u001b[0m\u001b[0;34m]\u001b[0m\u001b[0;34m]\u001b[0m\u001b[0;34m,\u001b[0m\u001b[0;34m\u001b[0m\u001b[0;34m\u001b[0m\u001b[0m\n\u001b[0;32m----> 3\u001b[0;31m                 [z_Prt[0,:]])\n\u001b[0m\u001b[1;32m      4\u001b[0m \u001b[0mlen\u001b[0m\u001b[0;34m(\u001b[0m\u001b[0mxyz0\u001b[0m\u001b[0;34m)\u001b[0m\u001b[0;34m\u001b[0m\u001b[0;34m\u001b[0m\u001b[0m\n\u001b[1;32m      5\u001b[0m \u001b[0mxyz0\u001b[0m\u001b[0;34m.\u001b[0m\u001b[0mshape\u001b[0m\u001b[0;34m\u001b[0m\u001b[0;34m\u001b[0m\u001b[0m\n",
      "\u001b[0;31mValueError\u001b[0m: only 2 non-keyword arguments accepted"
     ]
    }
   ],
   "source": [
    "xyz0 = np.array([x_Prt[0,:]], \n",
    "                [y_Prt[0,:]], \n",
    "                [z_Prt[0,:]])\n",
    "len(xyz0)\n",
    "xyz0.shape"
   ]
  },
  {
   "cell_type": "code",
   "execution_count": 40,
   "metadata": {},
   "outputs": [
    {
     "ename": "TypeError",
     "evalue": "data type not understood",
     "output_type": "error",
     "traceback": [
      "\u001b[0;31m---------------------------------------------------------------------------\u001b[0m",
      "\u001b[0;31mTypeError\u001b[0m                                 Traceback (most recent call last)",
      "\u001b[0;32m~/Desktop/4th_year/4th_year_project/Project/top_data/rotate_N_pole.py\u001b[0m in \u001b[0;36m<module>\u001b[0;34m\u001b[0m\n\u001b[1;32m      1\u001b[0m xyz0 = np.array([x_Prt[0,:]], \n\u001b[0;32m----> 2\u001b[0;31m                 [y_Prt[0,:]])\n\u001b[0m\u001b[1;32m      3\u001b[0m \u001b[0mlen\u001b[0m\u001b[0;34m(\u001b[0m\u001b[0mxyz0\u001b[0m\u001b[0;34m)\u001b[0m\u001b[0;34m\u001b[0m\u001b[0;34m\u001b[0m\u001b[0m\n\u001b[1;32m      4\u001b[0m \u001b[0mxyz0\u001b[0m\u001b[0;34m.\u001b[0m\u001b[0mshape\u001b[0m\u001b[0;34m\u001b[0m\u001b[0;34m\u001b[0m\u001b[0m\n",
      "\u001b[0;31mTypeError\u001b[0m: data type not understood"
     ]
    }
   ],
   "source": [
    "xyz0 = np.array([x_Prt[0,:]], \n",
    "                [y_Prt[0,:]])\n",
    "len(xyz0)\n",
    "xyz0.shape"
   ]
  },
  {
   "cell_type": "code",
   "execution_count": 41,
   "metadata": {},
   "outputs": [
    {
     "ename": "TypeError",
     "evalue": "data type not understood",
     "output_type": "error",
     "traceback": [
      "\u001b[0;31m---------------------------------------------------------------------------\u001b[0m",
      "\u001b[0;31mTypeError\u001b[0m                                 Traceback (most recent call last)",
      "\u001b[0;32m~/Desktop/4th_year/4th_year_project/Project/top_data/rotate_N_pole.py\u001b[0m in \u001b[0;36m<module>\u001b[0;34m\u001b[0m\n\u001b[0;32m----> 1\u001b[0;31m \u001b[0mxyz0\u001b[0m \u001b[0;34m=\u001b[0m \u001b[0mnp\u001b[0m\u001b[0;34m.\u001b[0m\u001b[0marray\u001b[0m\u001b[0;34m(\u001b[0m\u001b[0;34m[\u001b[0m\u001b[0mx_Prt\u001b[0m\u001b[0;34m[\u001b[0m\u001b[0;36m0\u001b[0m\u001b[0;34m,\u001b[0m\u001b[0;34m:\u001b[0m\u001b[0;34m]\u001b[0m\u001b[0;34m]\u001b[0m\u001b[0;34m,\u001b[0m \u001b[0;34m[\u001b[0m\u001b[0my_Prt\u001b[0m\u001b[0;34m[\u001b[0m\u001b[0;36m0\u001b[0m\u001b[0;34m,\u001b[0m\u001b[0;34m:\u001b[0m\u001b[0;34m]\u001b[0m\u001b[0;34m]\u001b[0m\u001b[0;34m)\u001b[0m\u001b[0;34m\u001b[0m\u001b[0;34m\u001b[0m\u001b[0m\n\u001b[0m\u001b[1;32m      2\u001b[0m \u001b[0mlen\u001b[0m\u001b[0;34m(\u001b[0m\u001b[0mxyz0\u001b[0m\u001b[0;34m)\u001b[0m\u001b[0;34m\u001b[0m\u001b[0;34m\u001b[0m\u001b[0m\n\u001b[1;32m      3\u001b[0m \u001b[0mxyz0\u001b[0m\u001b[0;34m.\u001b[0m\u001b[0mshape\u001b[0m\u001b[0;34m\u001b[0m\u001b[0;34m\u001b[0m\u001b[0m\n",
      "\u001b[0;31mTypeError\u001b[0m: data type not understood"
     ]
    }
   ],
   "source": [
    "xyz0 = np.array([x_Prt[0,:]], [y_Prt[0,:]])\n",
    "len(xyz0)\n",
    "xyz0.shape"
   ]
  },
  {
   "cell_type": "code",
   "execution_count": 42,
   "metadata": {},
   "outputs": [
    {
     "ename": "TypeError",
     "evalue": "'list' object cannot be interpreted as an integer",
     "output_type": "error",
     "traceback": [
      "\u001b[0;31m---------------------------------------------------------------------------\u001b[0m",
      "\u001b[0;31mTypeError\u001b[0m                                 Traceback (most recent call last)",
      "\u001b[0;32m~/Desktop/4th_year/4th_year_project/Project/top_data/rotate_N_pole.py\u001b[0m in \u001b[0;36m<module>\u001b[0;34m\u001b[0m\n\u001b[0;32m----> 1\u001b[0;31m \u001b[0mxyz0\u001b[0m \u001b[0;34m=\u001b[0m \u001b[0mnp\u001b[0m\u001b[0;34m.\u001b[0m\u001b[0mconcatenate\u001b[0m\u001b[0;34m(\u001b[0m\u001b[0;34m[\u001b[0m\u001b[0mx_Prt\u001b[0m\u001b[0;34m[\u001b[0m\u001b[0;36m0\u001b[0m\u001b[0;34m,\u001b[0m\u001b[0;34m:\u001b[0m\u001b[0;34m]\u001b[0m\u001b[0;34m]\u001b[0m\u001b[0;34m,\u001b[0m \u001b[0;34m[\u001b[0m\u001b[0my_Prt\u001b[0m\u001b[0;34m[\u001b[0m\u001b[0;36m0\u001b[0m\u001b[0;34m,\u001b[0m\u001b[0;34m:\u001b[0m\u001b[0;34m]\u001b[0m\u001b[0;34m]\u001b[0m\u001b[0;34m,\u001b[0m \u001b[0maxis\u001b[0m \u001b[0;34m=\u001b[0m \u001b[0;36m0\u001b[0m\u001b[0;34m)\u001b[0m\u001b[0;34m\u001b[0m\u001b[0;34m\u001b[0m\u001b[0m\n\u001b[0m\u001b[1;32m      2\u001b[0m \u001b[0mlen\u001b[0m\u001b[0;34m(\u001b[0m\u001b[0mxyz0\u001b[0m\u001b[0;34m)\u001b[0m\u001b[0;34m\u001b[0m\u001b[0;34m\u001b[0m\u001b[0m\n\u001b[1;32m      3\u001b[0m \u001b[0mxyz0\u001b[0m\u001b[0;34m.\u001b[0m\u001b[0mshape\u001b[0m\u001b[0;34m\u001b[0m\u001b[0;34m\u001b[0m\u001b[0m\n",
      "\u001b[0;31mTypeError\u001b[0m: 'list' object cannot be interpreted as an integer"
     ]
    }
   ],
   "source": [
    "xyz0 = np.concatenate([x_Prt[0,:]], [y_Prt[0,:]], axis = 0)\n",
    "len(xyz0)\n",
    "xyz0.shape"
   ]
  },
  {
   "cell_type": "code",
   "execution_count": 43,
   "metadata": {},
   "outputs": [],
   "source": [
    "del xyz0"
   ]
  },
  {
   "cell_type": "code",
   "execution_count": 44,
   "metadata": {},
   "outputs": [
    {
     "ename": "TypeError",
     "evalue": "'list' object cannot be interpreted as an integer",
     "output_type": "error",
     "traceback": [
      "\u001b[0;31m---------------------------------------------------------------------------\u001b[0m",
      "\u001b[0;31mTypeError\u001b[0m                                 Traceback (most recent call last)",
      "\u001b[0;32m~/Desktop/4th_year/4th_year_project/Project/top_data/rotate_N_pole.py\u001b[0m in \u001b[0;36m<module>\u001b[0;34m\u001b[0m\n\u001b[0;32m----> 1\u001b[0;31m \u001b[0mxyz0\u001b[0m \u001b[0;34m=\u001b[0m \u001b[0mnp\u001b[0m\u001b[0;34m.\u001b[0m\u001b[0mconcatenate\u001b[0m\u001b[0;34m(\u001b[0m\u001b[0;34m[\u001b[0m\u001b[0mx_Prt\u001b[0m\u001b[0;34m[\u001b[0m\u001b[0;36m0\u001b[0m\u001b[0;34m,\u001b[0m\u001b[0;34m:\u001b[0m\u001b[0;34m]\u001b[0m\u001b[0;34m]\u001b[0m\u001b[0;34m,\u001b[0m \u001b[0;34m[\u001b[0m\u001b[0my_Prt\u001b[0m\u001b[0;34m[\u001b[0m\u001b[0;36m0\u001b[0m\u001b[0;34m,\u001b[0m\u001b[0;34m:\u001b[0m\u001b[0;34m]\u001b[0m\u001b[0;34m]\u001b[0m\u001b[0;34m,\u001b[0m \u001b[0maxis\u001b[0m \u001b[0;34m=\u001b[0m \u001b[0;36m0\u001b[0m\u001b[0;34m)\u001b[0m\u001b[0;34m\u001b[0m\u001b[0;34m\u001b[0m\u001b[0m\n\u001b[0m\u001b[1;32m      2\u001b[0m \u001b[0mlen\u001b[0m\u001b[0;34m(\u001b[0m\u001b[0mxyz0\u001b[0m\u001b[0;34m)\u001b[0m\u001b[0;34m\u001b[0m\u001b[0;34m\u001b[0m\u001b[0m\n\u001b[1;32m      3\u001b[0m \u001b[0mxyz0\u001b[0m\u001b[0;34m.\u001b[0m\u001b[0mshape\u001b[0m\u001b[0;34m\u001b[0m\u001b[0;34m\u001b[0m\u001b[0m\n",
      "\u001b[0;31mTypeError\u001b[0m: 'list' object cannot be interpreted as an integer"
     ]
    }
   ],
   "source": [
    "xyz0 = np.concatenate([x_Prt[0,:]], [y_Prt[0,:]], axis = 0)\n",
    "len(xyz0)\n",
    "xyz0.shape"
   ]
  },
  {
   "cell_type": "code",
   "execution_count": 45,
   "metadata": {},
   "outputs": [
    {
     "data": {
      "text/plain": [
       "(3600,)"
      ]
     },
     "execution_count": 45,
     "metadata": {},
     "output_type": "execute_result"
    }
   ],
   "source": [
    "xyz0 = np.concatenate((x_Prt[0,:], y_Prt[0,:]), axis = 0)\n",
    "len(xyz0)\n",
    "xyz0.shape"
   ]
  },
  {
   "cell_type": "code",
   "execution_count": 46,
   "metadata": {},
   "outputs": [
    {
     "data": {
      "text/plain": [
       "(3600,)"
      ]
     },
     "execution_count": 46,
     "metadata": {},
     "output_type": "execute_result"
    }
   ],
   "source": [
    "xyz0.shape"
   ]
  },
  {
   "cell_type": "code",
   "execution_count": 47,
   "metadata": {},
   "outputs": [
    {
     "data": {
      "text/plain": [
       "(2, 1800)"
      ]
     },
     "execution_count": 47,
     "metadata": {},
     "output_type": "execute_result"
    }
   ],
   "source": [
    "xyz0 = xyz0.reshape(2,1800)\n",
    "xyz0.shape"
   ]
  },
  {
   "cell_type": "code",
   "execution_count": 48,
   "metadata": {},
   "outputs": [
    {
     "name": "stdout",
     "output_type": "stream",
     "text": [
      "[4816.17343307 4816.31446039 4816.45522392 4816.59547798 4816.73518335] [4816.17343307 4816.31446039 4816.45522392 4816.59547798 4816.73518335]\n"
     ]
    }
   ],
   "source": [
    "print(x_Prt[0,0:5], xyz0[0,0:5])"
   ]
  },
  {
   "cell_type": "code",
   "execution_count": 49,
   "metadata": {},
   "outputs": [],
   "source": [
    "import numpy as np\n",
    "from math import pi, sin, cos, sqrt\n",
    "\n",
    "# From Kuangdai's code: \n",
    "# RDCol3 Geodesy::rotateGlob2Src(const RDCol3 &rtpG, double srclat, double srclon, double srcdep) {\n",
    "#     const RDCol3 &xyzG = toCartesian(rtpG);\n",
    "#     const RDCol3 &xyzS = rotationMatrix(lat2Theta_d(srclat, srcdep), lon2Phi(srclon)).transpose() * xyzG;\n",
    "#     bool defined = true;\n",
    "#     RDCol3 rtpS = toSpherical(xyzS, defined);\n",
    "#     if (!defined) {\n",
    "#         rtpS(2) = rtpG(2);\n",
    "#     }\n",
    "#     return rtpS;\n",
    "# }\n",
    "\n",
    "### SCHEISSE CODE\n",
    "# def rotate_N_pole(src_lat, src_lon, src_depth, x, y, z):\n",
    "#     \"\"\"\n",
    "#     Input source latitude & longitude, and data file in Cartesian \n",
    "#     coordinates. Rotates to N pole using the rotation matrix. Returns\n",
    "#     the rotated data in Cartesian coordinates.\n",
    "#     \"\"\"\n",
    "\n",
    "#     # Calculate colatitude of source given depth and geographic lat\n",
    "#     src_colat = lat_to_colat(src_lat, src_depth, 'False')\n",
    "#     # Longitude in radians\n",
    "#     src_lon = pi/180*src_lon\n",
    "\n",
    "#     # How would this multipliciation work as rotation matrix is\n",
    "#     # 3-by-3 but each of x, y, and z is len(lat)-by-len(lon)\n",
    "#     x_rot = rotation_matrix(src_colat, src_lon).transpose() * x\n",
    "#     y_rot = rotation_matrix(src_colat, src_lon).transpose() * y\n",
    "#     z_rot = rotation_matrix(src_colat, src_lon).transpose() * z\n",
    "\n",
    "#     return(x_rot, y_rot, z_rot)\n",
    "\n",
    "# # Get source centered in Cartesian\n",
    "\n",
    "def rotate_N_Pole(src_lat, src_lon, x, y, z): \n",
    "    \"\"\"\n",
    "    Input source grographic latitude & longitude, and data file in \n",
    "    Cartesian coordinates. Rotates to N pole using rotation_matrix, \n",
    "    assuming depth of source is effectively 0. Returns the rotated \n",
    "    data in Cartesian coordinates.\n",
    "    \"\"\"\n",
    "    # To radians\n",
    "    src_lat = pi/180*src_lat\n",
    "    src_lon = pi/180*src_lon\n",
    "\n",
    "    # Get geocentric latitude, in rad\n",
    "    e_2 = wgs84()[2]\n",
    "    src_colat = np.arctan((1 - e_2) * np.tan(src_lat))\n",
    "\n",
    "    # Preallocate output arrays\n",
    "    (m,n) = x.shape\n",
    "    x_rot = np.zeros((m,n), float)\n",
    "    y_rot = np.zeros((m,n), float)\n",
    "    z_rot = np.zeros((m,n), float)\n",
    "\n",
    "    # Compute rotated x, y, z, using matrix multiplication matmul\n",
    "    Q = rotation_matrix(src_colat, src_lon).transpose()\n",
    "    for i in range(m): \n",
    "        a = np.concatenate((x_rot[0,], y_rot[0,], z_rot[0,]), axis = 0)\n",
    "        a = a.reshape(3,n)\n",
    "        b = np.concatenate((x[0,], y[0,], z[0,]), axis = 0)\n",
    "        b = b.reshape(3,n)\n",
    "        a = np.matmul(Q, b)\n",
    "        x_rot[i,] = a[0,]\n",
    "        y_rot[i,] = a[1,]\n",
    "        z_rot[i,] = a[2,]\n",
    "    \n",
    "    return(x_rot, y_rot, z_rot)\n"
   ]
  },
  {
   "cell_type": "code",
   "execution_count": 50,
   "metadata": {},
   "outputs": [],
   "source": [
    "\n",
    "(x_Prt_rot, y_Prt_rot, z_Prt_rot) = rotate_N_Pole(38.45, -18.2, x_Prt, y_Prt, z_Prt)\n"
   ]
  },
  {
   "cell_type": "code",
   "execution_count": 51,
   "metadata": {},
   "outputs": [],
   "source": [
    "av_lat = np.mean(lat_Prt)"
   ]
  }
 ],
 "metadata": {
  "file_extension": ".py",
  "kernelspec": {
   "display_name": "Python 3",
   "language": "python",
   "name": "python3"
  },
  "language_info": {
   "codemirror_mode": {
    "name": "ipython",
    "version": 3
   },
   "file_extension": ".py",
   "mimetype": "text/x-python",
   "name": "python",
   "nbconvert_exporter": "python",
   "pygments_lexer": "ipython3",
   "version": "3.7.5"
  },
  "mimetype": "text/x-python",
  "name": "python",
  "npconvert_exporter": "python",
  "pygments_lexer": "ipython3",
  "version": 3
 },
 "nbformat": 4,
 "nbformat_minor": 2
}
